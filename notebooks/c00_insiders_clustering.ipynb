{
 "cells": [
  {
   "cell_type": "markdown",
   "id": "a8753b22",
   "metadata": {},
   "source": [
    "# PA005: High Value Customer Identification ( Insiders )"
   ]
  },
  {
   "cell_type": "markdown",
   "id": "50b37618",
   "metadata": {},
   "source": [
    "## 0.0. Planejamento da Solução ( IOT )"
   ]
  },
  {
   "cell_type": "markdown",
   "id": "e9cdb297",
   "metadata": {
    "heading_collapsed": true
   },
   "source": [
    "### Input - Entrada"
   ]
  },
  {
   "cell_type": "markdown",
   "id": "d8ee351e",
   "metadata": {
    "hidden": true
   },
   "source": [
    "1. Problema de Negócio\n",
    "    - Selecionar os clientes mais valiosos para integrar um programa de Fidelização.\n",
    "    \n",
    "    \n",
    "2. Conjunto de Dados\n",
    "    - Vendas de um e-commerce online, durante o período de um ano."
   ]
  },
  {
   "cell_type": "markdown",
   "id": "657de95a",
   "metadata": {
    "heading_collapsed": true
   },
   "source": [
    "### Output - Saída"
   ]
  },
  {
   "cell_type": "markdown",
   "id": "6486adba",
   "metadata": {
    "hidden": true
   },
   "source": [
    "1. A indicação das pessoas que farão parte do programa de Insiders\n",
    "    - Lista: client_id | is_insider \n",
    "                   1023| yes/1\n",
    "                   \n",
    "\n",
    "2. Relatório com as respostas das perguntas de negócio\n",
    "    - Quem são as pessoas elegíveis para participar do programa de Insiders ?\n",
    "    - Quantos clientes farão parte do grupo?\n",
    "    - Quais as principais características desses clientes ?\n",
    "    - Qual a porcentagem de contribuição do faturamento, vinda do Insiders ?\n",
    "    - Qual a expectativa de faturamento desse grupo para os próximos meses ?\n",
    "    - Quais as condições para uma pessoa ser elegível ao Insiders ?\n",
    "    - Quais as condições para uma pessoa ser removida do Insiders ?\n",
    "    - Qual a garantia que o programa Insiders é melhor que o restante da base ?\n",
    "    - Quais ações o time de marketing pode realizar para aumentar o faturamento?"
   ]
  },
  {
   "cell_type": "markdown",
   "id": "bdc6c770",
   "metadata": {
    "heading_collapsed": true
   },
   "source": [
    "### Task - Tarefas"
   ]
  },
  {
   "cell_type": "markdown",
   "id": "928b2dee",
   "metadata": {
    "hidden": true
   },
   "source": [
    "1. Quem são as pessoas elegíveis para participar do programa de Insiders?\n",
    "    - O que é ser elegível? O que são clientes de maior \"valor\"?\n",
    "    - Faturamento:\n",
    "        - Alto Ticket Médio - Quanto o cliente gastou em média na empresa;\n",
    "        - Alto LTV - Durante seu tempo na empresa, quanto você já gastou?;\n",
    "        - Baixa Recência - Tempo entre as compras;\n",
    "        - Alto Basket Size - Tamanho da cesta de compras;\n",
    "        - Baixa probabilidade de Churn - Quando a pessoa parou de comprar de você;\n",
    "        - Alta previsão de LTV;\n",
    "        - Alta propensão de compra\n",
    "        \n",
    "    - Custo:\n",
    "        - Baixa taxa de devolução;\n",
    "        \n",
    "    - Experiência de comora:\n",
    "        - Média alta das avaliações\n",
    "\n",
    "\n",
    "2. Quantos clientes farão parte do grupo?\n",
    "    - Número total de clientes;\n",
    "    - % do grupo Insiders.\n",
    "\n",
    "\n",
    "3. Quais as principais características desses clientes?\n",
    "    - Escrever características do cliente:\n",
    "        - Idade;\n",
    "        - Localização.\n",
    "    \n",
    "    - Escrever características do consumo\n",
    "        - Atributos da clusterização\n",
    "\n",
    "\n",
    "4. Qual a porcentagem de contribuição do faturamento, vinda do Insiders?\n",
    "    - Faturamento total do ano;\n",
    "    - Faturamento total do grupo.\n",
    "\n",
    "\n",
    "5. Qual a expectativa de faturamento desse grupo para os próximos meses?\n",
    "    - LTV do grupo Insiders;\n",
    "    - Análise de Cohort - Análise onde eu marco uma pessoa no tempo.\n",
    "    \n",
    "\n",
    "6. Quais as condições para uma pessoa ser elegível ao Insiders?\n",
    "    - Definir a periodicidade (1 mes, 3 meses);\n",
    "    - A pessoa precisa ser similar com uma pessoa do grupo\n",
    "\n",
    "\n",
    "7. Quais as condições para uma pessoa ser removida do Insiders?\n",
    "    - Definir a periodicidade (1 mes, 3 meses);\n",
    "    - A pessoa precisa ser não similar com uma pessoa do grupo\n",
    "\n",
    "\n",
    "8. Qual a garantia que o programa Insiders é melhor que o restante da base?\n",
    "    - Teste A/B;\n",
    "    - Teste A/B Bayesiano;\n",
    "    - Teste de Hipóteses.\n",
    "\n",
    "\n",
    "9. Quais ações o time de marketing pode realizar para aumentar o faturame1.\n",
    "    - Desconto;\n",
    "    - Preferência de compra;\n",
    "    - Frete;\n",
    "    - Visita a empresa."
   ]
  },
  {
   "cell_type": "markdown",
   "id": "76e0f13e",
   "metadata": {},
   "source": [
    "## Benchmark de soluções\n",
    "### 1. Desk Research"
   ]
  },
  {
   "cell_type": "code",
   "execution_count": null,
   "id": "3c6f1dbf",
   "metadata": {},
   "outputs": [],
   "source": []
  }
 ],
 "metadata": {
  "kernelspec": {
   "display_name": "Python 3 (ipykernel)",
   "language": "python",
   "name": "python3"
  },
  "language_info": {
   "codemirror_mode": {
    "name": "ipython",
    "version": 3
   },
   "file_extension": ".py",
   "mimetype": "text/x-python",
   "name": "python",
   "nbconvert_exporter": "python",
   "pygments_lexer": "ipython3",
   "version": "3.8.0"
  }
 },
 "nbformat": 4,
 "nbformat_minor": 5
}
