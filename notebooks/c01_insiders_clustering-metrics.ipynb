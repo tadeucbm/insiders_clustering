{
 "cells": [
  {
   "cell_type": "markdown",
   "id": "a8753b22",
   "metadata": {},
   "source": [
    "# PA005: High Value Customer Identification ( Insiders )"
   ]
  },
  {
   "cell_type": "markdown",
   "id": "50b37618",
   "metadata": {},
   "source": [
    "## 0.0. Planejamento da Solução ( IOT )"
   ]
  },
  {
   "cell_type": "markdown",
   "id": "e9cdb297",
   "metadata": {},
   "source": [
    "### Input - Entrada"
   ]
  },
  {
   "cell_type": "markdown",
   "id": "d8ee351e",
   "metadata": {},
   "source": [
    "1. Problema de Negócio\n",
    "    - Selecionar os clientes mais valiosos para integrar um programa de Fidelização.\n",
    "    \n",
    "    \n",
    "2. Conjunto de Dados\n",
    "    - Vendas de um e-commerce online, durante o período de um ano."
   ]
  },
  {
   "cell_type": "markdown",
   "id": "657de95a",
   "metadata": {},
   "source": [
    "### Output - Saída"
   ]
  },
  {
   "cell_type": "markdown",
   "id": "6486adba",
   "metadata": {},
   "source": [
    "1. A indicação das pessoas que farão parte do programa de Insiders\n",
    "    - Lista: client_id | is_insider \n",
    "                   1023| yes/1\n",
    "                   \n",
    "\n",
    "2. Relatório com as respostas das perguntas de negócio\n",
    "    - Quem são as pessoas elegíveis para participar do programa de Insiders ?\n",
    "    - Quantos clientes farão parte do grupo?\n",
    "    - Quais as principais características desses clientes ?\n",
    "    - Qual a porcentagem de contribuição do faturamento, vinda do Insiders ?\n",
    "    - Qual a expectativa de faturamento desse grupo para os próximos meses ?\n",
    "    - Quais as condições para uma pessoa ser elegível ao Insiders ?\n",
    "    - Quais as condições para uma pessoa ser removida do Insiders ?\n",
    "    - Qual a garantia que o programa Insiders é melhor que o restante da base ?\n",
    "    - Quais ações o time de marketing pode realizar para aumentar o faturamento?"
   ]
  },
  {
   "cell_type": "markdown",
   "id": "bdc6c770",
   "metadata": {},
   "source": [
    "### Task - Tarefas"
   ]
  },
  {
   "cell_type": "markdown",
   "id": "928b2dee",
   "metadata": {},
   "source": [
    "1. Quem são as pessoas elegíveis para participar do programa de Insiders?\n",
    "    - O que é ser elegível? O que são clientes de maior \"valor\"?\n",
    "    - Faturamento:\n",
    "        - Alto Ticket Médio - Quanto o cliente gastou em média na empresa;\n",
    "        - Alto LTV - Durante seu tempo na empresa, quanto você já gastou?;\n",
    "        - Baixa Recência - Tempo entre as compras;\n",
    "        - Alto Basket Size - Tamanho da cesta de compras;\n",
    "        - Baixa probabilidade de Churn - Quando a pessoa parou de comprar de você;\n",
    "        - Alta previsão de LTV;\n",
    "        - Alta propensão de compra\n",
    "        \n",
    "    - Custo:\n",
    "        - Baixa taxa de devolução;\n",
    "        \n",
    "    - Experiência de comora:\n",
    "        - Média alta das avaliações\n",
    "\n",
    "\n",
    "2. Quantos clientes farão parte do grupo?\n",
    "    - Número total de clientes;\n",
    "    - % do grupo Insiders.\n",
    "\n",
    "\n",
    "3. Quais as principais características desses clientes?\n",
    "    - Escrever características do cliente:\n",
    "        - Idade;\n",
    "        - Localização.\n",
    "    \n",
    "    - Escrever características do consumo\n",
    "        - Atributos da clusterização\n",
    "\n",
    "\n",
    "4. Qual a porcentagem de contribuição do faturamento, vinda do Insiders?\n",
    "    - Faturamento total do ano;\n",
    "    - Faturamento total do grupo.\n",
    "\n",
    "\n",
    "5. Qual a expectativa de faturamento desse grupo para os próximos meses?\n",
    "    - LTV do grupo Insiders;\n",
    "    - Análise de Cohort - Análise onde eu marco uma pessoa no tempo.\n",
    "    \n",
    "\n",
    "6. Quais as condições para uma pessoa ser elegível ao Insiders?\n",
    "    - Definir a periodicidade (1 mes, 3 meses);\n",
    "    - A pessoa precisa ser similar com uma pessoa do grupo\n",
    "\n",
    "\n",
    "7. Quais as condições para uma pessoa ser removida do Insiders?\n",
    "    - Definir a periodicidade (1 mes, 3 meses);\n",
    "    - A pessoa precisa ser não similar com uma pessoa do grupo\n",
    "\n",
    "\n",
    "8. Qual a garantia que o programa Insiders é melhor que o restante da base?\n",
    "    - Teste A/B;\n",
    "    - Teste A/B Bayesiano;\n",
    "    - Teste de Hipóteses.\n",
    "\n",
    "\n",
    "9. Quais ações o time de marketing pode realizar para aumentar o faturame1.\n",
    "    - Desconto;\n",
    "    - Preferência de compra;\n",
    "    - Frete;\n",
    "    - Visita a empresa."
   ]
  },
  {
   "cell_type": "markdown",
   "id": "e86ba2ef",
   "metadata": {},
   "source": [
    "# 0.0. Imports"
   ]
  },
  {
   "cell_type": "code",
   "execution_count": 48,
   "id": "d71af2f4",
   "metadata": {},
   "outputs": [],
   "source": [
    "import numpy as np\n",
    "import pandas as pd\n",
    "import seaborn as sns\n",
    "\n",
    "from matplotlib import pyplot as plt\n",
    "from IPython.display import HTML\n",
    "\n",
    "from sklearn import cluster as c"
   ]
  },
  {
   "cell_type": "markdown",
   "id": "92cc110e",
   "metadata": {},
   "source": [
    "## 0.1. Helper Functions"
   ]
  },
  {
   "cell_type": "code",
   "execution_count": 49,
   "id": "3fa1c7f8",
   "metadata": {},
   "outputs": [
    {
     "name": "stdout",
     "output_type": "stream",
     "text": [
      "Populating the interactive namespace from numpy and matplotlib\n"
     ]
    },
    {
     "data": {
      "text/html": [
       "<style>.container{width:100% !important;}</style>"
      ],
      "text/plain": [
       "<IPython.core.display.HTML object>"
      ]
     },
     "metadata": {},
     "output_type": "display_data"
    }
   ],
   "source": [
    "def jupyter_settings():\n",
    "    %matplotlib inline\n",
    "    %pylab inline\n",
    "    \n",
    "    plt.style.use('ggplot')\n",
    "    plt.rcParams['figure.figsize'] = [24, 9]\n",
    "    plt.rcParams['font.size'] = 24\n",
    "    \n",
    "    display(HTML('<style>.container{width:100% !important;}</style>'))\n",
    "    pd.options.display.max_columns = None\n",
    "    pd.options.display.max_rows = None\n",
    "    pd.set_option('display.expand_frame_repr', False)\n",
    "    \n",
    "    sns.set()\n",
    "    \n",
    "jupyter_settings()"
   ]
  },
  {
   "cell_type": "markdown",
   "id": "7b584766",
   "metadata": {},
   "source": [
    "## 0.2. Load dataset"
   ]
  },
  {
   "cell_type": "code",
   "execution_count": 50,
   "id": "a3e778eb",
   "metadata": {},
   "outputs": [],
   "source": [
    "# read data\n",
    "url='https://drive.google.com/file/d/1P2xz5nr3c8lPJ2esMb-N0uQs0TiTAeNW/view?usp=sharing'\n",
    "url_='https://drive.google.com/uc?id=' + url.split('/')[-2]\n",
    "df_raw = pd.read_csv(url_, encoding='windows-1252')\n",
    "\n",
    "# drop extra column\n",
    "df_raw = df_raw.drop(columns=['Unnamed: 8'], axis=1)"
   ]
  },
  {
   "cell_type": "code",
   "execution_count": 51,
   "id": "53d3c386",
   "metadata": {},
   "outputs": [
    {
     "data": {
      "text/plain": [
       "Index(['InvoiceNo', 'StockCode', 'Description', 'Quantity', 'InvoiceDate',\n",
       "       'UnitPrice', 'CustomerID', 'Country'],\n",
       "      dtype='object')"
      ]
     },
     "execution_count": 51,
     "metadata": {},
     "output_type": "execute_result"
    }
   ],
   "source": [
    "df_raw.columns"
   ]
  },
  {
   "cell_type": "code",
   "execution_count": 52,
   "id": "0399b2c2",
   "metadata": {},
   "outputs": [
    {
     "data": {
      "text/html": [
       "<div>\n",
       "<style scoped>\n",
       "    .dataframe tbody tr th:only-of-type {\n",
       "        vertical-align: middle;\n",
       "    }\n",
       "\n",
       "    .dataframe tbody tr th {\n",
       "        vertical-align: top;\n",
       "    }\n",
       "\n",
       "    .dataframe thead th {\n",
       "        text-align: right;\n",
       "    }\n",
       "</style>\n",
       "<table border=\"1\" class=\"dataframe\">\n",
       "  <thead>\n",
       "    <tr style=\"text-align: right;\">\n",
       "      <th></th>\n",
       "      <th>InvoiceNo</th>\n",
       "      <th>StockCode</th>\n",
       "      <th>Description</th>\n",
       "      <th>Quantity</th>\n",
       "      <th>InvoiceDate</th>\n",
       "      <th>UnitPrice</th>\n",
       "      <th>CustomerID</th>\n",
       "      <th>Country</th>\n",
       "    </tr>\n",
       "  </thead>\n",
       "  <tbody>\n",
       "    <tr>\n",
       "      <th>0</th>\n",
       "      <td>536365</td>\n",
       "      <td>85123A</td>\n",
       "      <td>WHITE HANGING HEART T-LIGHT HOLDER</td>\n",
       "      <td>6</td>\n",
       "      <td>29-Nov-16</td>\n",
       "      <td>2.55</td>\n",
       "      <td>17850.0</td>\n",
       "      <td>United Kingdom</td>\n",
       "    </tr>\n",
       "    <tr>\n",
       "      <th>1</th>\n",
       "      <td>536365</td>\n",
       "      <td>71053</td>\n",
       "      <td>WHITE METAL LANTERN</td>\n",
       "      <td>6</td>\n",
       "      <td>29-Nov-16</td>\n",
       "      <td>3.39</td>\n",
       "      <td>17850.0</td>\n",
       "      <td>United Kingdom</td>\n",
       "    </tr>\n",
       "    <tr>\n",
       "      <th>2</th>\n",
       "      <td>536365</td>\n",
       "      <td>84406B</td>\n",
       "      <td>CREAM CUPID HEARTS COAT HANGER</td>\n",
       "      <td>8</td>\n",
       "      <td>29-Nov-16</td>\n",
       "      <td>2.75</td>\n",
       "      <td>17850.0</td>\n",
       "      <td>United Kingdom</td>\n",
       "    </tr>\n",
       "    <tr>\n",
       "      <th>3</th>\n",
       "      <td>536365</td>\n",
       "      <td>84029G</td>\n",
       "      <td>KNITTED UNION FLAG HOT WATER BOTTLE</td>\n",
       "      <td>6</td>\n",
       "      <td>29-Nov-16</td>\n",
       "      <td>3.39</td>\n",
       "      <td>17850.0</td>\n",
       "      <td>United Kingdom</td>\n",
       "    </tr>\n",
       "    <tr>\n",
       "      <th>4</th>\n",
       "      <td>536365</td>\n",
       "      <td>84029E</td>\n",
       "      <td>RED WOOLLY HOTTIE WHITE HEART.</td>\n",
       "      <td>6</td>\n",
       "      <td>29-Nov-16</td>\n",
       "      <td>3.39</td>\n",
       "      <td>17850.0</td>\n",
       "      <td>United Kingdom</td>\n",
       "    </tr>\n",
       "  </tbody>\n",
       "</table>\n",
       "</div>"
      ],
      "text/plain": [
       "  InvoiceNo StockCode                          Description  Quantity InvoiceDate  UnitPrice  CustomerID         Country\n",
       "0    536365    85123A   WHITE HANGING HEART T-LIGHT HOLDER         6   29-Nov-16       2.55     17850.0  United Kingdom\n",
       "1    536365     71053                  WHITE METAL LANTERN         6   29-Nov-16       3.39     17850.0  United Kingdom\n",
       "2    536365    84406B       CREAM CUPID HEARTS COAT HANGER         8   29-Nov-16       2.75     17850.0  United Kingdom\n",
       "3    536365    84029G  KNITTED UNION FLAG HOT WATER BOTTLE         6   29-Nov-16       3.39     17850.0  United Kingdom\n",
       "4    536365    84029E       RED WOOLLY HOTTIE WHITE HEART.         6   29-Nov-16       3.39     17850.0  United Kingdom"
      ]
     },
     "execution_count": 52,
     "metadata": {},
     "output_type": "execute_result"
    }
   ],
   "source": [
    "df_raw.head()"
   ]
  },
  {
   "cell_type": "markdown",
   "id": "4301f6d4",
   "metadata": {},
   "source": [
    "# 1.0. Decrição dos Dados"
   ]
  },
  {
   "cell_type": "code",
   "execution_count": 53,
   "id": "a768b78a",
   "metadata": {},
   "outputs": [],
   "source": [
    "df1 = df_raw.copy()"
   ]
  },
  {
   "cell_type": "markdown",
   "id": "269130d0",
   "metadata": {},
   "source": [
    "## 1.1. Rename Columns"
   ]
  },
  {
   "cell_type": "code",
   "execution_count": 54,
   "id": "be1e233e",
   "metadata": {},
   "outputs": [
    {
     "data": {
      "text/plain": [
       "Index(['InvoiceNo', 'StockCode', 'Description', 'Quantity', 'InvoiceDate',\n",
       "       'UnitPrice', 'CustomerID', 'Country'],\n",
       "      dtype='object')"
      ]
     },
     "execution_count": 54,
     "metadata": {},
     "output_type": "execute_result"
    }
   ],
   "source": [
    "df1.columns"
   ]
  },
  {
   "cell_type": "code",
   "execution_count": 55,
   "id": "b227a4e0",
   "metadata": {},
   "outputs": [],
   "source": [
    "cols_new = ['invoice_no', 'stock_code', 'description', 'quantity', 'invoice_date', 'unit_price', 'customer_id', 'country']\n",
    "df1.columns = cols_new"
   ]
  },
  {
   "cell_type": "code",
   "execution_count": 56,
   "id": "7548a4a7",
   "metadata": {},
   "outputs": [
    {
     "data": {
      "text/html": [
       "<div>\n",
       "<style scoped>\n",
       "    .dataframe tbody tr th:only-of-type {\n",
       "        vertical-align: middle;\n",
       "    }\n",
       "\n",
       "    .dataframe tbody tr th {\n",
       "        vertical-align: top;\n",
       "    }\n",
       "\n",
       "    .dataframe thead th {\n",
       "        text-align: right;\n",
       "    }\n",
       "</style>\n",
       "<table border=\"1\" class=\"dataframe\">\n",
       "  <thead>\n",
       "    <tr style=\"text-align: right;\">\n",
       "      <th></th>\n",
       "      <th>invoice_no</th>\n",
       "      <th>stock_code</th>\n",
       "      <th>description</th>\n",
       "      <th>quantity</th>\n",
       "      <th>invoice_date</th>\n",
       "      <th>unit_price</th>\n",
       "      <th>customer_id</th>\n",
       "      <th>country</th>\n",
       "    </tr>\n",
       "  </thead>\n",
       "  <tbody>\n",
       "    <tr>\n",
       "      <th>75444</th>\n",
       "      <td>542597</td>\n",
       "      <td>48188</td>\n",
       "      <td>DOORMAT WELCOME PUPPIES</td>\n",
       "      <td>2</td>\n",
       "      <td>28-Jan-17</td>\n",
       "      <td>7.95</td>\n",
       "      <td>16326.0</td>\n",
       "      <td>United Kingdom</td>\n",
       "    </tr>\n",
       "  </tbody>\n",
       "</table>\n",
       "</div>"
      ],
      "text/plain": [
       "      invoice_no stock_code              description  quantity invoice_date  unit_price  customer_id         country\n",
       "75444     542597      48188  DOORMAT WELCOME PUPPIES         2    28-Jan-17        7.95      16326.0  United Kingdom"
      ]
     },
     "execution_count": 56,
     "metadata": {},
     "output_type": "execute_result"
    }
   ],
   "source": [
    "df1.sample()"
   ]
  },
  {
   "cell_type": "markdown",
   "id": "f77c3eff",
   "metadata": {},
   "source": [
    "## 1.2. Data Dimensions"
   ]
  },
  {
   "cell_type": "code",
   "execution_count": 57,
   "id": "7f36a6c9",
   "metadata": {},
   "outputs": [
    {
     "name": "stdout",
     "output_type": "stream",
     "text": [
      "Number of rows: 541909\n",
      "Number of columns: 8\n"
     ]
    }
   ],
   "source": [
    "print('Number of rows: {}'.format(df1.shape[0]))\n",
    "print('Number of columns: {}'.format(df1.shape[1]))"
   ]
  },
  {
   "cell_type": "markdown",
   "id": "15f49779",
   "metadata": {},
   "source": [
    "## 1.3. Data Types"
   ]
  },
  {
   "cell_type": "code",
   "execution_count": 58,
   "id": "faff469a",
   "metadata": {},
   "outputs": [
    {
     "data": {
      "text/plain": [
       "invoice_no       object\n",
       "stock_code       object\n",
       "description      object\n",
       "quantity          int64\n",
       "invoice_date     object\n",
       "unit_price      float64\n",
       "customer_id     float64\n",
       "country          object\n",
       "dtype: object"
      ]
     },
     "execution_count": 58,
     "metadata": {},
     "output_type": "execute_result"
    }
   ],
   "source": [
    "df1.dtypes"
   ]
  },
  {
   "cell_type": "code",
   "execution_count": 59,
   "id": "03d8cfbe",
   "metadata": {},
   "outputs": [
    {
     "data": {
      "text/html": [
       "<div>\n",
       "<style scoped>\n",
       "    .dataframe tbody tr th:only-of-type {\n",
       "        vertical-align: middle;\n",
       "    }\n",
       "\n",
       "    .dataframe tbody tr th {\n",
       "        vertical-align: top;\n",
       "    }\n",
       "\n",
       "    .dataframe thead th {\n",
       "        text-align: right;\n",
       "    }\n",
       "</style>\n",
       "<table border=\"1\" class=\"dataframe\">\n",
       "  <thead>\n",
       "    <tr style=\"text-align: right;\">\n",
       "      <th></th>\n",
       "      <th>invoice_no</th>\n",
       "      <th>stock_code</th>\n",
       "      <th>description</th>\n",
       "      <th>quantity</th>\n",
       "      <th>invoice_date</th>\n",
       "      <th>unit_price</th>\n",
       "      <th>customer_id</th>\n",
       "      <th>country</th>\n",
       "    </tr>\n",
       "  </thead>\n",
       "  <tbody>\n",
       "    <tr>\n",
       "      <th>0</th>\n",
       "      <td>536365</td>\n",
       "      <td>85123A</td>\n",
       "      <td>WHITE HANGING HEART T-LIGHT HOLDER</td>\n",
       "      <td>6</td>\n",
       "      <td>29-Nov-16</td>\n",
       "      <td>2.55</td>\n",
       "      <td>17850.0</td>\n",
       "      <td>United Kingdom</td>\n",
       "    </tr>\n",
       "    <tr>\n",
       "      <th>1</th>\n",
       "      <td>536365</td>\n",
       "      <td>71053</td>\n",
       "      <td>WHITE METAL LANTERN</td>\n",
       "      <td>6</td>\n",
       "      <td>29-Nov-16</td>\n",
       "      <td>3.39</td>\n",
       "      <td>17850.0</td>\n",
       "      <td>United Kingdom</td>\n",
       "    </tr>\n",
       "    <tr>\n",
       "      <th>2</th>\n",
       "      <td>536365</td>\n",
       "      <td>84406B</td>\n",
       "      <td>CREAM CUPID HEARTS COAT HANGER</td>\n",
       "      <td>8</td>\n",
       "      <td>29-Nov-16</td>\n",
       "      <td>2.75</td>\n",
       "      <td>17850.0</td>\n",
       "      <td>United Kingdom</td>\n",
       "    </tr>\n",
       "    <tr>\n",
       "      <th>3</th>\n",
       "      <td>536365</td>\n",
       "      <td>84029G</td>\n",
       "      <td>KNITTED UNION FLAG HOT WATER BOTTLE</td>\n",
       "      <td>6</td>\n",
       "      <td>29-Nov-16</td>\n",
       "      <td>3.39</td>\n",
       "      <td>17850.0</td>\n",
       "      <td>United Kingdom</td>\n",
       "    </tr>\n",
       "    <tr>\n",
       "      <th>4</th>\n",
       "      <td>536365</td>\n",
       "      <td>84029E</td>\n",
       "      <td>RED WOOLLY HOTTIE WHITE HEART.</td>\n",
       "      <td>6</td>\n",
       "      <td>29-Nov-16</td>\n",
       "      <td>3.39</td>\n",
       "      <td>17850.0</td>\n",
       "      <td>United Kingdom</td>\n",
       "    </tr>\n",
       "  </tbody>\n",
       "</table>\n",
       "</div>"
      ],
      "text/plain": [
       "  invoice_no stock_code                          description  quantity invoice_date  unit_price  customer_id         country\n",
       "0     536365     85123A   WHITE HANGING HEART T-LIGHT HOLDER         6    29-Nov-16        2.55      17850.0  United Kingdom\n",
       "1     536365      71053                  WHITE METAL LANTERN         6    29-Nov-16        3.39      17850.0  United Kingdom\n",
       "2     536365     84406B       CREAM CUPID HEARTS COAT HANGER         8    29-Nov-16        2.75      17850.0  United Kingdom\n",
       "3     536365     84029G  KNITTED UNION FLAG HOT WATER BOTTLE         6    29-Nov-16        3.39      17850.0  United Kingdom\n",
       "4     536365     84029E       RED WOOLLY HOTTIE WHITE HEART.         6    29-Nov-16        3.39      17850.0  United Kingdom"
      ]
     },
     "execution_count": 59,
     "metadata": {},
     "output_type": "execute_result"
    }
   ],
   "source": [
    "df1.head()"
   ]
  },
  {
   "cell_type": "markdown",
   "id": "c5f55774",
   "metadata": {},
   "source": [
    "## 1.4. Chek NA"
   ]
  },
  {
   "cell_type": "code",
   "execution_count": 60,
   "id": "4e3cb692",
   "metadata": {},
   "outputs": [
    {
     "data": {
      "text/plain": [
       "invoice_no           0\n",
       "stock_code           0\n",
       "description       1454\n",
       "quantity             0\n",
       "invoice_date         0\n",
       "unit_price           0\n",
       "customer_id     135080\n",
       "country              0\n",
       "dtype: int64"
      ]
     },
     "execution_count": 60,
     "metadata": {},
     "output_type": "execute_result"
    }
   ],
   "source": [
    "df1.isna().sum()"
   ]
  },
  {
   "cell_type": "markdown",
   "id": "b7b3bbea",
   "metadata": {},
   "source": [
    "## 1.5. Replace NA"
   ]
  },
  {
   "cell_type": "code",
   "execution_count": 61,
   "id": "f0dd5379",
   "metadata": {},
   "outputs": [
    {
     "name": "stdout",
     "output_type": "stream",
     "text": [
      "Removed Data: 24.93%\n"
     ]
    }
   ],
   "source": [
    "# remova NA\n",
    "df1 = df1.dropna(subset=['description', 'customer_id'])\n",
    "print('Removed Data: {:.2f}%'.format(100 * (1 - (df1.shape[0]/df_raw.shape[0]))))"
   ]
  },
  {
   "cell_type": "code",
   "execution_count": 62,
   "id": "765e0bdb",
   "metadata": {},
   "outputs": [
    {
     "data": {
      "text/plain": [
       "invoice_no      0\n",
       "stock_code      0\n",
       "description     0\n",
       "quantity        0\n",
       "invoice_date    0\n",
       "unit_price      0\n",
       "customer_id     0\n",
       "country         0\n",
       "dtype: int64"
      ]
     },
     "execution_count": 62,
     "metadata": {},
     "output_type": "execute_result"
    }
   ],
   "source": [
    "df1.isna().sum()"
   ]
  },
  {
   "cell_type": "markdown",
   "id": "1404e588",
   "metadata": {},
   "source": [
    "## 1.6. Change Dtypes"
   ]
  },
  {
   "cell_type": "code",
   "execution_count": 63,
   "id": "e1e4fb0e",
   "metadata": {},
   "outputs": [
    {
     "data": {
      "text/plain": [
       "invoice_no       object\n",
       "stock_code       object\n",
       "description      object\n",
       "quantity          int64\n",
       "invoice_date     object\n",
       "unit_price      float64\n",
       "customer_id     float64\n",
       "country          object\n",
       "dtype: object"
      ]
     },
     "execution_count": 63,
     "metadata": {},
     "output_type": "execute_result"
    }
   ],
   "source": [
    "df1.dtypes"
   ]
  },
  {
   "cell_type": "code",
   "execution_count": 64,
   "id": "03283616",
   "metadata": {},
   "outputs": [],
   "source": [
    "# invoice date\n",
    "df1['invoice_date'] = pd.to_datetime(df1['invoice_date'], format='%d-%b-%y')\n",
    "\n",
    "# customer id\n",
    "df1['customer_id'] = df1['customer_id'].astype(int)"
   ]
  },
  {
   "cell_type": "code",
   "execution_count": 65,
   "id": "eb897684",
   "metadata": {},
   "outputs": [
    {
     "data": {
      "text/plain": [
       "invoice_no              object\n",
       "stock_code              object\n",
       "description             object\n",
       "quantity                 int64\n",
       "invoice_date    datetime64[ns]\n",
       "unit_price             float64\n",
       "customer_id              int64\n",
       "country                 object\n",
       "dtype: object"
      ]
     },
     "execution_count": 65,
     "metadata": {},
     "output_type": "execute_result"
    }
   ],
   "source": [
    "df1.dtypes"
   ]
  },
  {
   "cell_type": "markdown",
   "id": "2b74fcaf",
   "metadata": {},
   "source": [
    "## 1.7. Descriptive Statistics"
   ]
  },
  {
   "cell_type": "markdown",
   "id": "04661c70",
   "metadata": {},
   "source": [
    "# 2.0. Feature Engineering"
   ]
  },
  {
   "cell_type": "code",
   "execution_count": 66,
   "id": "c052e19e",
   "metadata": {},
   "outputs": [],
   "source": [
    "df2 = df1.copy()"
   ]
  },
  {
   "cell_type": "markdown",
   "id": "84ddfc01",
   "metadata": {},
   "source": [
    "## 2.1. Feature Creation"
   ]
  },
  {
   "cell_type": "code",
   "execution_count": 67,
   "id": "8e1f680d",
   "metadata": {},
   "outputs": [
    {
     "data": {
      "text/html": [
       "<div>\n",
       "<style scoped>\n",
       "    .dataframe tbody tr th:only-of-type {\n",
       "        vertical-align: middle;\n",
       "    }\n",
       "\n",
       "    .dataframe tbody tr th {\n",
       "        vertical-align: top;\n",
       "    }\n",
       "\n",
       "    .dataframe thead th {\n",
       "        text-align: right;\n",
       "    }\n",
       "</style>\n",
       "<table border=\"1\" class=\"dataframe\">\n",
       "  <thead>\n",
       "    <tr style=\"text-align: right;\">\n",
       "      <th></th>\n",
       "      <th>invoice_no</th>\n",
       "      <th>stock_code</th>\n",
       "      <th>description</th>\n",
       "      <th>quantity</th>\n",
       "      <th>invoice_date</th>\n",
       "      <th>unit_price</th>\n",
       "      <th>customer_id</th>\n",
       "      <th>country</th>\n",
       "    </tr>\n",
       "  </thead>\n",
       "  <tbody>\n",
       "    <tr>\n",
       "      <th>0</th>\n",
       "      <td>536365</td>\n",
       "      <td>85123A</td>\n",
       "      <td>WHITE HANGING HEART T-LIGHT HOLDER</td>\n",
       "      <td>6</td>\n",
       "      <td>2016-11-29</td>\n",
       "      <td>2.55</td>\n",
       "      <td>17850</td>\n",
       "      <td>United Kingdom</td>\n",
       "    </tr>\n",
       "    <tr>\n",
       "      <th>1</th>\n",
       "      <td>536365</td>\n",
       "      <td>71053</td>\n",
       "      <td>WHITE METAL LANTERN</td>\n",
       "      <td>6</td>\n",
       "      <td>2016-11-29</td>\n",
       "      <td>3.39</td>\n",
       "      <td>17850</td>\n",
       "      <td>United Kingdom</td>\n",
       "    </tr>\n",
       "    <tr>\n",
       "      <th>2</th>\n",
       "      <td>536365</td>\n",
       "      <td>84406B</td>\n",
       "      <td>CREAM CUPID HEARTS COAT HANGER</td>\n",
       "      <td>8</td>\n",
       "      <td>2016-11-29</td>\n",
       "      <td>2.75</td>\n",
       "      <td>17850</td>\n",
       "      <td>United Kingdom</td>\n",
       "    </tr>\n",
       "    <tr>\n",
       "      <th>3</th>\n",
       "      <td>536365</td>\n",
       "      <td>84029G</td>\n",
       "      <td>KNITTED UNION FLAG HOT WATER BOTTLE</td>\n",
       "      <td>6</td>\n",
       "      <td>2016-11-29</td>\n",
       "      <td>3.39</td>\n",
       "      <td>17850</td>\n",
       "      <td>United Kingdom</td>\n",
       "    </tr>\n",
       "    <tr>\n",
       "      <th>4</th>\n",
       "      <td>536365</td>\n",
       "      <td>84029E</td>\n",
       "      <td>RED WOOLLY HOTTIE WHITE HEART.</td>\n",
       "      <td>6</td>\n",
       "      <td>2016-11-29</td>\n",
       "      <td>3.39</td>\n",
       "      <td>17850</td>\n",
       "      <td>United Kingdom</td>\n",
       "    </tr>\n",
       "  </tbody>\n",
       "</table>\n",
       "</div>"
      ],
      "text/plain": [
       "  invoice_no stock_code                          description  quantity invoice_date  unit_price  customer_id         country\n",
       "0     536365     85123A   WHITE HANGING HEART T-LIGHT HOLDER         6   2016-11-29        2.55        17850  United Kingdom\n",
       "1     536365      71053                  WHITE METAL LANTERN         6   2016-11-29        3.39        17850  United Kingdom\n",
       "2     536365     84406B       CREAM CUPID HEARTS COAT HANGER         8   2016-11-29        2.75        17850  United Kingdom\n",
       "3     536365     84029G  KNITTED UNION FLAG HOT WATER BOTTLE         6   2016-11-29        3.39        17850  United Kingdom\n",
       "4     536365     84029E       RED WOOLLY HOTTIE WHITE HEART.         6   2016-11-29        3.39        17850  United Kingdom"
      ]
     },
     "execution_count": 67,
     "metadata": {},
     "output_type": "execute_result"
    }
   ],
   "source": [
    "df2.head()"
   ]
  },
  {
   "cell_type": "code",
   "execution_count": 68,
   "id": "a1f8c31c",
   "metadata": {},
   "outputs": [
    {
     "data": {
      "text/html": [
       "<div>\n",
       "<style scoped>\n",
       "    .dataframe tbody tr th:only-of-type {\n",
       "        vertical-align: middle;\n",
       "    }\n",
       "\n",
       "    .dataframe tbody tr th {\n",
       "        vertical-align: top;\n",
       "    }\n",
       "\n",
       "    .dataframe thead th {\n",
       "        text-align: right;\n",
       "    }\n",
       "</style>\n",
       "<table border=\"1\" class=\"dataframe\">\n",
       "  <thead>\n",
       "    <tr style=\"text-align: right;\">\n",
       "      <th></th>\n",
       "      <th>customer_id</th>\n",
       "    </tr>\n",
       "  </thead>\n",
       "  <tbody>\n",
       "    <tr>\n",
       "      <th>0</th>\n",
       "      <td>17850</td>\n",
       "    </tr>\n",
       "    <tr>\n",
       "      <th>1</th>\n",
       "      <td>13047</td>\n",
       "    </tr>\n",
       "    <tr>\n",
       "      <th>2</th>\n",
       "      <td>12583</td>\n",
       "    </tr>\n",
       "    <tr>\n",
       "      <th>3</th>\n",
       "      <td>13748</td>\n",
       "    </tr>\n",
       "    <tr>\n",
       "      <th>4</th>\n",
       "      <td>15100</td>\n",
       "    </tr>\n",
       "  </tbody>\n",
       "</table>\n",
       "</div>"
      ],
      "text/plain": [
       "   customer_id\n",
       "0        17850\n",
       "1        13047\n",
       "2        12583\n",
       "3        13748\n",
       "4        15100"
      ]
     },
     "execution_count": 68,
     "metadata": {},
     "output_type": "execute_result"
    }
   ],
   "source": [
    "# data reference\n",
    "df_ref = df2.drop(['invoice_no', 'stock_code', 'description', \n",
    "                   'quantity','invoice_date', 'unit_price', \n",
    "                   'country'], axis=1).drop_duplicates(ignore_index=True)\n",
    "df_ref.head()"
   ]
  },
  {
   "cell_type": "code",
   "execution_count": 69,
   "id": "373817af",
   "metadata": {},
   "outputs": [],
   "source": [
    "# Gross Revenue - Faturamento - Quantity * Price\n",
    "df2['gross_revenue']  = df2['quantity'] * df2['unit_price']\n",
    "\n",
    "# Monetary\n",
    "df_monetary = df2[['customer_id', 'gross_revenue']].groupby('customer_id').sum().reset_index()\n",
    "df_ref = pd.merge(df_ref, df_monetary, on='customer_id', how='left')\n",
    "\n",
    "# Recency - Last Day purchase\n",
    "df_recency = df2[['customer_id', 'invoice_date']].groupby('customer_id').max().reset_index()\n",
    "df_recency['recency_days'] = (df2['invoice_date'].max() - df_recency['invoice_date']).dt.days\n",
    "df_recency = df_recency[['customer_id', 'recency_days']].copy()\n",
    "df_ref = pd.merge(df_ref, df_recency, on='customer_id', how='left')\n",
    "\n",
    "# Frequency\n",
    "df_frequency = df2[['customer_id', 'invoice_no']].drop_duplicates().groupby('customer_id').count().reset_index()\n",
    "df_ref = pd.merge(df_ref, df_frequency, on='customer_id', how='left')"
   ]
  },
  {
   "cell_type": "markdown",
   "id": "fd0ea31a",
   "metadata": {},
   "source": [
    "# 3.0. Filtragem de Variáveis"
   ]
  },
  {
   "cell_type": "code",
   "execution_count": 70,
   "id": "dabb6f4c",
   "metadata": {},
   "outputs": [],
   "source": [
    "df3 = df_ref.copy()"
   ]
  },
  {
   "cell_type": "markdown",
   "id": "9fe95107",
   "metadata": {},
   "source": [
    "# 4.0. EDA - Exploratory Data Analysis"
   ]
  },
  {
   "cell_type": "code",
   "execution_count": 71,
   "id": "2abf9d53",
   "metadata": {},
   "outputs": [],
   "source": [
    "df4 = df3.copy()"
   ]
  },
  {
   "cell_type": "markdown",
   "id": "498a52a6",
   "metadata": {},
   "source": [
    "# 5.0. Data Preparation"
   ]
  },
  {
   "cell_type": "code",
   "execution_count": 72,
   "id": "b820cb82",
   "metadata": {},
   "outputs": [],
   "source": [
    "df5 = df4.copy()"
   ]
  },
  {
   "cell_type": "markdown",
   "id": "9507e22a",
   "metadata": {},
   "source": [
    "# 6.0. Feature Selection"
   ]
  },
  {
   "cell_type": "code",
   "execution_count": 73,
   "id": "a3480fcb",
   "metadata": {},
   "outputs": [],
   "source": [
    "df6 = df5.copy()"
   ]
  },
  {
   "cell_type": "markdown",
   "id": "521adc25",
   "metadata": {},
   "source": [
    "# 7.0. Hyperparameter Fine-Tunning"
   ]
  },
  {
   "cell_type": "code",
   "execution_count": 74,
   "id": "0ae10eef",
   "metadata": {},
   "outputs": [],
   "source": [
    "X = df6.drop(columns = ['customer_id'])"
   ]
  },
  {
   "cell_type": "code",
   "execution_count": 75,
   "id": "7f4b2384",
   "metadata": {},
   "outputs": [],
   "source": [
    "clusters = [2, 3, 4, 5, 6]"
   ]
  },
  {
   "cell_type": "markdown",
   "id": "a8048056",
   "metadata": {},
   "source": [
    "## 7.1. Withins-Cluster Sum of Square (WSS)"
   ]
  },
  {
   "cell_type": "code",
   "execution_count": 76,
   "id": "c1378c1e",
   "metadata": {},
   "outputs": [
    {
     "data": {
      "text/plain": [
       "Text(0.5, 1.0, 'WSS vs K')"
      ]
     },
     "execution_count": 76,
     "metadata": {},
     "output_type": "execute_result"
    },
    {
     "data": {
      "image/png": "[encoded data removed]",
      "text/plain": [
       "<Figure size 1728x648 with 1 Axes>"
      ]
     },
     "metadata": {},
     "output_type": "display_data"
    }
   ],
   "source": [
    "wss = []\n",
    "for k in clusters:\n",
    "    # model definitions\n",
    "    kmeans = c.KMeans(init='random', n_clusters=k, n_init=10, max_iter=300, random_state=42)\n",
    "    \n",
    "    # model training\n",
    "    kmeans.fit(X)\n",
    "    \n",
    "    # validation\n",
    "    wss.append(kmeans.inertia_)\n",
    "    \n",
    "# plot wss - Elbow Method\n",
    "plt.plot(clusters, wss, linestyle='--', marker='o', color='b')\n",
    "plt.xlabel('K')\n",
    "plt.ylabel('Withins-Cluster Sum of Square')\n",
    "plt.title('WSS vs K')"
   ]
  },
  {
   "cell_type": "code",
   "execution_count": 77,
   "id": "6df8f510",
   "metadata": {
    "scrolled": true
   },
   "outputs": [
    {
     "data": {
      "image/png": "[encoded data removed]",
      "text/plain": [
       "<Figure size 1728x648 with 1 Axes>"
      ]
     },
     "metadata": {},
     "output_type": "display_data"
    },
    {
     "data": {
      "text/plain": [
       "<AxesSubplot:title={'center':'Distortion Score Elbow for KMeans Clustering'}, xlabel='k', ylabel='distortion score'>"
      ]
     },
     "execution_count": 77,
     "metadata": {},
     "output_type": "execute_result"
    }
   ],
   "source": [
    "from yellowbrick.cluster import KElbowVisualizer\n",
    "\n",
    "kmeans = KElbowVisualizer(c.KMeans(), k=clusters, timings=False)\n",
    "kmeans.fit(X)\n",
    "kmeans.show()"
   ]
  },
  {
   "cell_type": "markdown",
   "id": "2c382b20",
   "metadata": {},
   "source": [
    "## 7.2. Sillhouette Score"
   ]
  },
  {
   "cell_type": "code",
   "execution_count": 78,
   "id": "0ac0cf44",
   "metadata": {},
   "outputs": [
    {
     "data": {
      "image/png": "[encoded data removed]",
      "text/plain": [
       "<Figure size 1728x648 with 1 Axes>"
      ]
     },
     "metadata": {},
     "output_type": "display_data"
    },
    {
     "data": {
      "text/plain": [
       "<AxesSubplot:title={'center':'Silhouette Score Elbow for KMeans Clustering'}, xlabel='k', ylabel='silhouette score'>"
      ]
     },
     "execution_count": 78,
     "metadata": {},
     "output_type": "execute_result"
    }
   ],
   "source": [
    "from yellowbrick.cluster import KElbowVisualizer\n",
    "\n",
    "kmeans = KElbowVisualizer(c.KMeans(), k=clusters, timings=False, metric = 'silhouette')\n",
    "kmeans.fit(X)\n",
    "kmeans.show()"
   ]
  },
  {
   "cell_type": "markdown",
   "id": "9d3afb34",
   "metadata": {},
   "source": [
    "# 8.0. Model Training"
   ]
  },
  {
   "cell_type": "markdown",
   "id": "0d032925",
   "metadata": {},
   "source": [
    "# 9.0. Cluster Analysis"
   ]
  },
  {
   "cell_type": "markdown",
   "id": "75faf1f4",
   "metadata": {},
   "source": [
    "# 10.0. Deploy To Production"
   ]
  }
 ],
 "metadata": {
  "kernelspec": {
   "display_name": "Python 3 (ipykernel)",
   "language": "python",
   "name": "python3"
  },
  "language_info": {
   "codemirror_mode": {
    "name": "ipython",
    "version": 3
   },
   "file_extension": ".py",
   "mimetype": "text/x-python",
   "name": "python",
   "nbconvert_exporter": "python",
   "pygments_lexer": "ipython3",
   "version": "3.8.0"
  }
 },
 "nbformat": 4,
 "nbformat_minor": 5
}
