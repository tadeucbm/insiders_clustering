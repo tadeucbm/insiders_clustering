{
 "cells": [
  {
   "cell_type": "markdown",
   "id": "a8753b22",
   "metadata": {},
   "source": [
    "# PA005: High Value Customer Identification ( Insiders )"
   ]
  },
  {
   "cell_type": "markdown",
   "id": "50b37618",
   "metadata": {},
   "source": [
    "## 0.0. Planejamento da Solução ( IOT )"
   ]
  },
  {
   "cell_type": "markdown",
   "id": "e9cdb297",
   "metadata": {},
   "source": [
    "### Input - Entrada"
   ]
  },
  {
   "cell_type": "markdown",
   "id": "d8ee351e",
   "metadata": {},
   "source": [
    "1. Problema de Negócio\n",
    "    - Selecionar os clientes mais valiosos para integrar um programa de Fidelização.\n",
    "    \n",
    "    \n",
    "2. Conjunto de Dados\n",
    "    - Vendas de um e-commerce online, durante o período de um ano."
   ]
  },
  {
   "cell_type": "markdown",
   "id": "657de95a",
   "metadata": {},
   "source": [
    "### Output - Saída"
   ]
  },
  {
   "cell_type": "markdown",
   "id": "6486adba",
   "metadata": {},
   "source": [
    "1. A indicação das pessoas que farão parte do programa de Insiders\n",
    "    - Lista: client_id | is_insider \n",
    "                   1023| yes/1\n",
    "                   \n",
    "\n",
    "2. Relatório com as respostas das perguntas de negócio\n",
    "    - Quem são as pessoas elegíveis para participar do programa de Insiders ?\n",
    "    - Quantos clientes farão parte do grupo?\n",
    "    - Quais as principais características desses clientes ?\n",
    "    - Qual a porcentagem de contribuição do faturamento, vinda do Insiders ?\n",
    "    - Qual a expectativa de faturamento desse grupo para os próximos meses ?\n",
    "    - Quais as condições para uma pessoa ser elegível ao Insiders ?\n",
    "    - Quais as condições para uma pessoa ser removida do Insiders ?\n",
    "    - Qual a garantia que o programa Insiders é melhor que o restante da base ?\n",
    "    - Quais ações o time de marketing pode realizar para aumentar o faturamento?"
   ]
  },
  {
   "cell_type": "markdown",
   "id": "bdc6c770",
   "metadata": {},
   "source": [
    "### Task - Tarefas"
   ]
  },
  {
   "cell_type": "markdown",
   "id": "928b2dee",
   "metadata": {},
   "source": [
    "1. Quem são as pessoas elegíveis para participar do programa de Insiders?\n",
    "    - O que é ser elegível? O que são clientes de maior \"valor\"?\n",
    "    - Faturamento:\n",
    "        - Alto Ticket Médio - Quanto o cliente gastou em média na empresa;\n",
    "        - Alto LTV - Durante seu tempo na empresa, quanto você já gastou?;\n",
    "        - Baixa Recência - Tempo entre as compras;\n",
    "        - Alto Basket Size - Tamanho da cesta de compras;\n",
    "        - Baixa probabilidade de Churn - Quando a pessoa parou de comprar de você;\n",
    "        - Alta previsão de LTV;\n",
    "        - Alta propensão de compra\n",
    "        \n",
    "    - Custo:\n",
    "        - Baixa taxa de devolução;\n",
    "        \n",
    "    - Experiência de comora:\n",
    "        - Média alta das avaliações\n",
    "\n",
    "\n",
    "2. Quantos clientes farão parte do grupo?\n",
    "    - Número total de clientes;\n",
    "    - % do grupo Insiders.\n",
    "\n",
    "\n",
    "3. Quais as principais características desses clientes?\n",
    "    - Escrever características do cliente:\n",
    "        - Idade;\n",
    "        - Localização.\n",
    "    \n",
    "    - Escrever características do consumo\n",
    "        - Atributos da clusterização\n",
    "\n",
    "\n",
    "4. Qual a porcentagem de contribuição do faturamento, vinda do Insiders?\n",
    "    - Faturamento total do ano;\n",
    "    - Faturamento total do grupo.\n",
    "\n",
    "\n",
    "5. Qual a expectativa de faturamento desse grupo para os próximos meses?\n",
    "    - LTV do grupo Insiders;\n",
    "    - Análise de Cohort - Análise onde eu marco uma pessoa no tempo.\n",
    "    \n",
    "\n",
    "6. Quais as condições para uma pessoa ser elegível ao Insiders?\n",
    "    - Definir a periodicidade (1 mes, 3 meses);\n",
    "    - A pessoa precisa ser similar com uma pessoa do grupo\n",
    "\n",
    "\n",
    "7. Quais as condições para uma pessoa ser removida do Insiders?\n",
    "    - Definir a periodicidade (1 mes, 3 meses);\n",
    "    - A pessoa precisa ser não similar com uma pessoa do grupo\n",
    "\n",
    "\n",
    "8. Qual a garantia que o programa Insiders é melhor que o restante da base?\n",
    "    - Teste A/B;\n",
    "    - Teste A/B Bayesiano;\n",
    "    - Teste de Hipóteses.\n",
    "\n",
    "\n",
    "9. Quais ações o time de marketing pode realizar para aumentar o faturame1.\n",
    "    - Desconto;\n",
    "    - Preferência de compra;\n",
    "    - Frete;\n",
    "    - Visita a empresa."
   ]
  },
  {
   "cell_type": "markdown",
   "id": "e86ba2ef",
   "metadata": {},
   "source": [
    "# 0.0. Imports"
   ]
  },
  {
   "cell_type": "code",
   "execution_count": 282,
   "id": "d71af2f4",
   "metadata": {},
   "outputs": [],
   "source": [
    "import numpy as np\n",
    "import pandas as pd\n",
    "import seaborn as sns\n",
    "\n",
    "import umap.umap_ as umap\n",
    "\n",
    "from matplotlib import pyplot as plt\n",
    "from IPython.display import HTML\n",
    "\n",
    "from pandas_profiling import ProfileReport\n",
    "\n",
    "from sklearn import cluster as c\n",
    "from sklearn import metrics as m\n",
    "from sklearn import preprocessing as pp\n",
    "\n",
    "from plotly import express as px\n",
    "\n",
    "from yellowbrick.cluster import KElbowVisualizer, SilhouetteVisualizer"
   ]
  },
  {
   "cell_type": "markdown",
   "id": "92cc110e",
   "metadata": {},
   "source": [
    "## 0.1. Helper Functions"
   ]
  },
  {
   "cell_type": "code",
   "execution_count": 147,
   "id": "3fa1c7f8",
   "metadata": {},
   "outputs": [
    {
     "name": "stdout",
     "output_type": "stream",
     "text": [
      "Populating the interactive namespace from numpy and matplotlib\n"
     ]
    },
    {
     "data": {
      "text/html": [
       "<style>.container{width:100% !important;}</style>"
      ],
      "text/plain": [
       "<IPython.core.display.HTML object>"
      ]
     },
     "metadata": {},
     "output_type": "display_data"
    }
   ],
   "source": [
    "def jupyter_settings():\n",
    "    %matplotlib inline\n",
    "    %pylab inline\n",
    "    \n",
    "    plt.style.use('ggplot')\n",
    "    plt.rcParams['figure.figsize'] = [24, 9]\n",
    "    plt.rcParams['font.size'] = 24\n",
    "    \n",
    "    display(HTML('<style>.container{width:100% !important;}</style>'))\n",
    "    pd.options.display.max_columns = None\n",
    "    pd.options.display.max_rows = None\n",
    "    pd.set_option('display.expand_frame_repr', False)\n",
    "    \n",
    "    sns.set()\n",
    "    \n",
    "jupyter_settings()"
   ]
  },
  {
   "cell_type": "markdown",
   "id": "7b584766",
   "metadata": {},
   "source": [
    "## 0.2. Load dataset"
   ]
  },
  {
   "cell_type": "code",
   "execution_count": 148,
   "id": "a3e778eb",
   "metadata": {},
   "outputs": [],
   "source": [
    "# read data\n",
    "url='https://drive.google.com/file/d/1P2xz5nr3c8lPJ2esMb-N0uQs0TiTAeNW/view?usp=sharing'\n",
    "url_='https://drive.google.com/uc?id=' + url.split('/')[-2]\n",
    "df_raw = pd.read_csv(url_, encoding='windows-1252')\n",
    "\n",
    "# drop extra column\n",
    "df_raw = df_raw.drop(columns=['Unnamed: 8'], axis=1)"
   ]
  },
  {
   "cell_type": "code",
   "execution_count": 149,
   "id": "53d3c386",
   "metadata": {},
   "outputs": [
    {
     "data": {
      "text/plain": [
       "Index(['InvoiceNo', 'StockCode', 'Description', 'Quantity', 'InvoiceDate',\n",
       "       'UnitPrice', 'CustomerID', 'Country'],\n",
       "      dtype='object')"
      ]
     },
     "execution_count": 149,
     "metadata": {},
     "output_type": "execute_result"
    }
   ],
   "source": [
    "df_raw.columns"
   ]
  },
  {
   "cell_type": "code",
   "execution_count": 150,
   "id": "0399b2c2",
   "metadata": {},
   "outputs": [
    {
     "data": {
      "text/html": [
       "<div>\n",
       "<style scoped>\n",
       "    .dataframe tbody tr th:only-of-type {\n",
       "        vertical-align: middle;\n",
       "    }\n",
       "\n",
       "    .dataframe tbody tr th {\n",
       "        vertical-align: top;\n",
       "    }\n",
       "\n",
       "    .dataframe thead th {\n",
       "        text-align: right;\n",
       "    }\n",
       "</style>\n",
       "<table border=\"1\" class=\"dataframe\">\n",
       "  <thead>\n",
       "    <tr style=\"text-align: right;\">\n",
       "      <th></th>\n",
       "      <th>InvoiceNo</th>\n",
       "      <th>StockCode</th>\n",
       "      <th>Description</th>\n",
       "      <th>Quantity</th>\n",
       "      <th>InvoiceDate</th>\n",
       "      <th>UnitPrice</th>\n",
       "      <th>CustomerID</th>\n",
       "      <th>Country</th>\n",
       "    </tr>\n",
       "  </thead>\n",
       "  <tbody>\n",
       "    <tr>\n",
       "      <th>0</th>\n",
       "      <td>536365</td>\n",
       "      <td>85123A</td>\n",
       "      <td>WHITE HANGING HEART T-LIGHT HOLDER</td>\n",
       "      <td>6</td>\n",
       "      <td>29-Nov-16</td>\n",
       "      <td>2.55</td>\n",
       "      <td>17850.0</td>\n",
       "      <td>United Kingdom</td>\n",
       "    </tr>\n",
       "    <tr>\n",
       "      <th>1</th>\n",
       "      <td>536365</td>\n",
       "      <td>71053</td>\n",
       "      <td>WHITE METAL LANTERN</td>\n",
       "      <td>6</td>\n",
       "      <td>29-Nov-16</td>\n",
       "      <td>3.39</td>\n",
       "      <td>17850.0</td>\n",
       "      <td>United Kingdom</td>\n",
       "    </tr>\n",
       "    <tr>\n",
       "      <th>2</th>\n",
       "      <td>536365</td>\n",
       "      <td>84406B</td>\n",
       "      <td>CREAM CUPID HEARTS COAT HANGER</td>\n",
       "      <td>8</td>\n",
       "      <td>29-Nov-16</td>\n",
       "      <td>2.75</td>\n",
       "      <td>17850.0</td>\n",
       "      <td>United Kingdom</td>\n",
       "    </tr>\n",
       "    <tr>\n",
       "      <th>3</th>\n",
       "      <td>536365</td>\n",
       "      <td>84029G</td>\n",
       "      <td>KNITTED UNION FLAG HOT WATER BOTTLE</td>\n",
       "      <td>6</td>\n",
       "      <td>29-Nov-16</td>\n",
       "      <td>3.39</td>\n",
       "      <td>17850.0</td>\n",
       "      <td>United Kingdom</td>\n",
       "    </tr>\n",
       "    <tr>\n",
       "      <th>4</th>\n",
       "      <td>536365</td>\n",
       "      <td>84029E</td>\n",
       "      <td>RED WOOLLY HOTTIE WHITE HEART.</td>\n",
       "      <td>6</td>\n",
       "      <td>29-Nov-16</td>\n",
       "      <td>3.39</td>\n",
       "      <td>17850.0</td>\n",
       "      <td>United Kingdom</td>\n",
       "    </tr>\n",
       "  </tbody>\n",
       "</table>\n",
       "</div>"
      ],
      "text/plain": [
       "  InvoiceNo StockCode                          Description  Quantity InvoiceDate  UnitPrice  CustomerID         Country\n",
       "0    536365    85123A   WHITE HANGING HEART T-LIGHT HOLDER         6   29-Nov-16       2.55     17850.0  United Kingdom\n",
       "1    536365     71053                  WHITE METAL LANTERN         6   29-Nov-16       3.39     17850.0  United Kingdom\n",
       "2    536365    84406B       CREAM CUPID HEARTS COAT HANGER         8   29-Nov-16       2.75     17850.0  United Kingdom\n",
       "3    536365    84029G  KNITTED UNION FLAG HOT WATER BOTTLE         6   29-Nov-16       3.39     17850.0  United Kingdom\n",
       "4    536365    84029E       RED WOOLLY HOTTIE WHITE HEART.         6   29-Nov-16       3.39     17850.0  United Kingdom"
      ]
     },
     "execution_count": 150,
     "metadata": {},
     "output_type": "execute_result"
    }
   ],
   "source": [
    "df_raw.head()"
   ]
  },
  {
   "cell_type": "markdown",
   "id": "4301f6d4",
   "metadata": {},
   "source": [
    "# 1.0. Decrição dos Dados"
   ]
  },
  {
   "cell_type": "code",
   "execution_count": 151,
   "id": "a768b78a",
   "metadata": {},
   "outputs": [],
   "source": [
    "df1 = df_raw.copy()"
   ]
  },
  {
   "cell_type": "markdown",
   "id": "269130d0",
   "metadata": {},
   "source": [
    "## 1.1. Rename Columns"
   ]
  },
  {
   "cell_type": "code",
   "execution_count": 152,
   "id": "be1e233e",
   "metadata": {},
   "outputs": [
    {
     "data": {
      "text/plain": [
       "Index(['InvoiceNo', 'StockCode', 'Description', 'Quantity', 'InvoiceDate',\n",
       "       'UnitPrice', 'CustomerID', 'Country'],\n",
       "      dtype='object')"
      ]
     },
     "execution_count": 152,
     "metadata": {},
     "output_type": "execute_result"
    }
   ],
   "source": [
    "df1.columns"
   ]
  },
  {
   "cell_type": "code",
   "execution_count": 153,
   "id": "b227a4e0",
   "metadata": {},
   "outputs": [],
   "source": [
    "cols_new = ['invoice_no', 'stock_code', 'description', 'quantity', 'invoice_date', 'unit_price', 'customer_id', 'country']\n",
    "df1.columns = cols_new"
   ]
  },
  {
   "cell_type": "code",
   "execution_count": 154,
   "id": "7548a4a7",
   "metadata": {},
   "outputs": [
    {
     "data": {
      "text/html": [
       "<div>\n",
       "<style scoped>\n",
       "    .dataframe tbody tr th:only-of-type {\n",
       "        vertical-align: middle;\n",
       "    }\n",
       "\n",
       "    .dataframe tbody tr th {\n",
       "        vertical-align: top;\n",
       "    }\n",
       "\n",
       "    .dataframe thead th {\n",
       "        text-align: right;\n",
       "    }\n",
       "</style>\n",
       "<table border=\"1\" class=\"dataframe\">\n",
       "  <thead>\n",
       "    <tr style=\"text-align: right;\">\n",
       "      <th></th>\n",
       "      <th>invoice_no</th>\n",
       "      <th>stock_code</th>\n",
       "      <th>description</th>\n",
       "      <th>quantity</th>\n",
       "      <th>invoice_date</th>\n",
       "      <th>unit_price</th>\n",
       "      <th>customer_id</th>\n",
       "      <th>country</th>\n",
       "    </tr>\n",
       "  </thead>\n",
       "  <tbody>\n",
       "    <tr>\n",
       "      <th>132157</th>\n",
       "      <td>547656</td>\n",
       "      <td>22077</td>\n",
       "      <td>6 RIBBONS RUSTIC CHARM</td>\n",
       "      <td>2</td>\n",
       "      <td>22-Mar-17</td>\n",
       "      <td>1.65</td>\n",
       "      <td>13263.0</td>\n",
       "      <td>United Kingdom</td>\n",
       "    </tr>\n",
       "  </tbody>\n",
       "</table>\n",
       "</div>"
      ],
      "text/plain": [
       "       invoice_no stock_code             description  quantity invoice_date  unit_price  customer_id         country\n",
       "132157     547656      22077  6 RIBBONS RUSTIC CHARM         2    22-Mar-17        1.65      13263.0  United Kingdom"
      ]
     },
     "execution_count": 154,
     "metadata": {},
     "output_type": "execute_result"
    }
   ],
   "source": [
    "df1.sample()"
   ]
  },
  {
   "cell_type": "markdown",
   "id": "f77c3eff",
   "metadata": {},
   "source": [
    "## 1.2. Data Dimensions"
   ]
  },
  {
   "cell_type": "code",
   "execution_count": 155,
   "id": "7f36a6c9",
   "metadata": {},
   "outputs": [
    {
     "name": "stdout",
     "output_type": "stream",
     "text": [
      "Number of rows: 541909\n",
      "Number of columns: 8\n"
     ]
    }
   ],
   "source": [
    "print('Number of rows: {}'.format(df1.shape[0]))\n",
    "print('Number of columns: {}'.format(df1.shape[1]))"
   ]
  },
  {
   "cell_type": "markdown",
   "id": "15f49779",
   "metadata": {},
   "source": [
    "## 1.3. Data Types"
   ]
  },
  {
   "cell_type": "code",
   "execution_count": 156,
   "id": "faff469a",
   "metadata": {},
   "outputs": [
    {
     "data": {
      "text/plain": [
       "invoice_no       object\n",
       "stock_code       object\n",
       "description      object\n",
       "quantity          int64\n",
       "invoice_date     object\n",
       "unit_price      float64\n",
       "customer_id     float64\n",
       "country          object\n",
       "dtype: object"
      ]
     },
     "execution_count": 156,
     "metadata": {},
     "output_type": "execute_result"
    }
   ],
   "source": [
    "df1.dtypes"
   ]
  },
  {
   "cell_type": "code",
   "execution_count": 157,
   "id": "03d8cfbe",
   "metadata": {},
   "outputs": [
    {
     "data": {
      "text/html": [
       "<div>\n",
       "<style scoped>\n",
       "    .dataframe tbody tr th:only-of-type {\n",
       "        vertical-align: middle;\n",
       "    }\n",
       "\n",
       "    .dataframe tbody tr th {\n",
       "        vertical-align: top;\n",
       "    }\n",
       "\n",
       "    .dataframe thead th {\n",
       "        text-align: right;\n",
       "    }\n",
       "</style>\n",
       "<table border=\"1\" class=\"dataframe\">\n",
       "  <thead>\n",
       "    <tr style=\"text-align: right;\">\n",
       "      <th></th>\n",
       "      <th>invoice_no</th>\n",
       "      <th>stock_code</th>\n",
       "      <th>description</th>\n",
       "      <th>quantity</th>\n",
       "      <th>invoice_date</th>\n",
       "      <th>unit_price</th>\n",
       "      <th>customer_id</th>\n",
       "      <th>country</th>\n",
       "    </tr>\n",
       "  </thead>\n",
       "  <tbody>\n",
       "    <tr>\n",
       "      <th>0</th>\n",
       "      <td>536365</td>\n",
       "      <td>85123A</td>\n",
       "      <td>WHITE HANGING HEART T-LIGHT HOLDER</td>\n",
       "      <td>6</td>\n",
       "      <td>29-Nov-16</td>\n",
       "      <td>2.55</td>\n",
       "      <td>17850.0</td>\n",
       "      <td>United Kingdom</td>\n",
       "    </tr>\n",
       "    <tr>\n",
       "      <th>1</th>\n",
       "      <td>536365</td>\n",
       "      <td>71053</td>\n",
       "      <td>WHITE METAL LANTERN</td>\n",
       "      <td>6</td>\n",
       "      <td>29-Nov-16</td>\n",
       "      <td>3.39</td>\n",
       "      <td>17850.0</td>\n",
       "      <td>United Kingdom</td>\n",
       "    </tr>\n",
       "    <tr>\n",
       "      <th>2</th>\n",
       "      <td>536365</td>\n",
       "      <td>84406B</td>\n",
       "      <td>CREAM CUPID HEARTS COAT HANGER</td>\n",
       "      <td>8</td>\n",
       "      <td>29-Nov-16</td>\n",
       "      <td>2.75</td>\n",
       "      <td>17850.0</td>\n",
       "      <td>United Kingdom</td>\n",
       "    </tr>\n",
       "    <tr>\n",
       "      <th>3</th>\n",
       "      <td>536365</td>\n",
       "      <td>84029G</td>\n",
       "      <td>KNITTED UNION FLAG HOT WATER BOTTLE</td>\n",
       "      <td>6</td>\n",
       "      <td>29-Nov-16</td>\n",
       "      <td>3.39</td>\n",
       "      <td>17850.0</td>\n",
       "      <td>United Kingdom</td>\n",
       "    </tr>\n",
       "    <tr>\n",
       "      <th>4</th>\n",
       "      <td>536365</td>\n",
       "      <td>84029E</td>\n",
       "      <td>RED WOOLLY HOTTIE WHITE HEART.</td>\n",
       "      <td>6</td>\n",
       "      <td>29-Nov-16</td>\n",
       "      <td>3.39</td>\n",
       "      <td>17850.0</td>\n",
       "      <td>United Kingdom</td>\n",
       "    </tr>\n",
       "  </tbody>\n",
       "</table>\n",
       "</div>"
      ],
      "text/plain": [
       "  invoice_no stock_code                          description  quantity invoice_date  unit_price  customer_id         country\n",
       "0     536365     85123A   WHITE HANGING HEART T-LIGHT HOLDER         6    29-Nov-16        2.55      17850.0  United Kingdom\n",
       "1     536365      71053                  WHITE METAL LANTERN         6    29-Nov-16        3.39      17850.0  United Kingdom\n",
       "2     536365     84406B       CREAM CUPID HEARTS COAT HANGER         8    29-Nov-16        2.75      17850.0  United Kingdom\n",
       "3     536365     84029G  KNITTED UNION FLAG HOT WATER BOTTLE         6    29-Nov-16        3.39      17850.0  United Kingdom\n",
       "4     536365     84029E       RED WOOLLY HOTTIE WHITE HEART.         6    29-Nov-16        3.39      17850.0  United Kingdom"
      ]
     },
     "execution_count": 157,
     "metadata": {},
     "output_type": "execute_result"
    }
   ],
   "source": [
    "df1.head()"
   ]
  },
  {
   "cell_type": "markdown",
   "id": "c5f55774",
   "metadata": {},
   "source": [
    "## 1.4. Chek NA"
   ]
  },
  {
   "cell_type": "code",
   "execution_count": 158,
   "id": "4e3cb692",
   "metadata": {},
   "outputs": [
    {
     "data": {
      "text/plain": [
       "invoice_no           0\n",
       "stock_code           0\n",
       "description       1454\n",
       "quantity             0\n",
       "invoice_date         0\n",
       "unit_price           0\n",
       "customer_id     135080\n",
       "country              0\n",
       "dtype: int64"
      ]
     },
     "execution_count": 158,
     "metadata": {},
     "output_type": "execute_result"
    }
   ],
   "source": [
    "df1.isna().sum()"
   ]
  },
  {
   "cell_type": "markdown",
   "id": "b7b3bbea",
   "metadata": {},
   "source": [
    "## 1.5. Replace NA"
   ]
  },
  {
   "cell_type": "markdown",
   "id": "e3bd263a-ecc7-427f-ac76-85635261aa94",
   "metadata": {},
   "source": [
    "### 1.5.1. df_missing"
   ]
  },
  {
   "cell_type": "code",
   "execution_count": 159,
   "id": "f6f7ff65-6e02-4cac-a30f-0761836e2a2d",
   "metadata": {},
   "outputs": [],
   "source": [
    "df_missing = df1.loc[df1['customer_id'].isna(), :]\n",
    "df_not_missing = df1.loc[~df1['customer_id'].isna(), :]"
   ]
  },
  {
   "cell_type": "code",
   "execution_count": 160,
   "id": "e7d56771-095d-4a83-bd1c-29ffcfbe5d38",
   "metadata": {},
   "outputs": [
    {
     "data": {
      "text/plain": [
       "(135080, 8)"
      ]
     },
     "execution_count": 160,
     "metadata": {},
     "output_type": "execute_result"
    }
   ],
   "source": [
    "df_missing.shape"
   ]
  },
  {
   "cell_type": "code",
   "execution_count": 161,
   "id": "e91f3c0f-0eb9-4f1d-9182-7d5120ac6bfd",
   "metadata": {},
   "outputs": [
    {
     "data": {
      "text/plain": [
       "(406829, 8)"
      ]
     },
     "execution_count": 161,
     "metadata": {},
     "output_type": "execute_result"
    }
   ],
   "source": [
    "df_not_missing.shape"
   ]
  },
  {
   "cell_type": "code",
   "execution_count": 162,
   "id": "c4d4170c-a09b-47d7-a4f9-07b9e8ca288c",
   "metadata": {},
   "outputs": [],
   "source": [
    "df_nm = df_not_missing.loc[:, ['invoice_no', 'customer_id']]\n",
    "df_nm['customer_id'] = df_nm['customer_id'].astype(int)"
   ]
  },
  {
   "cell_type": "code",
   "execution_count": 163,
   "id": "23f5ec7a-bd6c-423c-9140-28485e7ecb34",
   "metadata": {},
   "outputs": [],
   "source": [
    "df_merge = pd.merge(df_missing, df_nm, how='left', on='invoice_no')"
   ]
  },
  {
   "cell_type": "code",
   "execution_count": 164,
   "id": "73037165-ebac-4f91-a4cb-37e8d4855e1e",
   "metadata": {},
   "outputs": [
    {
     "data": {
      "text/html": [
       "<div>\n",
       "<style scoped>\n",
       "    .dataframe tbody tr th:only-of-type {\n",
       "        vertical-align: middle;\n",
       "    }\n",
       "\n",
       "    .dataframe tbody tr th {\n",
       "        vertical-align: top;\n",
       "    }\n",
       "\n",
       "    .dataframe thead th {\n",
       "        text-align: right;\n",
       "    }\n",
       "</style>\n",
       "<table border=\"1\" class=\"dataframe\">\n",
       "  <thead>\n",
       "    <tr style=\"text-align: right;\">\n",
       "      <th></th>\n",
       "      <th>invoice_no</th>\n",
       "      <th>stock_code</th>\n",
       "      <th>description</th>\n",
       "      <th>quantity</th>\n",
       "      <th>invoice_date</th>\n",
       "      <th>unit_price</th>\n",
       "      <th>customer_id_x</th>\n",
       "      <th>country</th>\n",
       "      <th>customer_id_y</th>\n",
       "    </tr>\n",
       "  </thead>\n",
       "  <tbody>\n",
       "    <tr>\n",
       "      <th>0</th>\n",
       "      <td>536414</td>\n",
       "      <td>22139</td>\n",
       "      <td>NaN</td>\n",
       "      <td>56</td>\n",
       "      <td>29-Nov-16</td>\n",
       "      <td>0.00</td>\n",
       "      <td>NaN</td>\n",
       "      <td>United Kingdom</td>\n",
       "      <td>NaN</td>\n",
       "    </tr>\n",
       "    <tr>\n",
       "      <th>1</th>\n",
       "      <td>536544</td>\n",
       "      <td>21773</td>\n",
       "      <td>DECORATIVE ROSE BATHROOM BOTTLE</td>\n",
       "      <td>1</td>\n",
       "      <td>29-Nov-16</td>\n",
       "      <td>2.51</td>\n",
       "      <td>NaN</td>\n",
       "      <td>United Kingdom</td>\n",
       "      <td>NaN</td>\n",
       "    </tr>\n",
       "    <tr>\n",
       "      <th>2</th>\n",
       "      <td>536544</td>\n",
       "      <td>21774</td>\n",
       "      <td>DECORATIVE CATS BATHROOM BOTTLE</td>\n",
       "      <td>2</td>\n",
       "      <td>29-Nov-16</td>\n",
       "      <td>2.51</td>\n",
       "      <td>NaN</td>\n",
       "      <td>United Kingdom</td>\n",
       "      <td>NaN</td>\n",
       "    </tr>\n",
       "    <tr>\n",
       "      <th>3</th>\n",
       "      <td>536544</td>\n",
       "      <td>21786</td>\n",
       "      <td>POLKADOT RAIN HAT</td>\n",
       "      <td>4</td>\n",
       "      <td>29-Nov-16</td>\n",
       "      <td>0.85</td>\n",
       "      <td>NaN</td>\n",
       "      <td>United Kingdom</td>\n",
       "      <td>NaN</td>\n",
       "    </tr>\n",
       "    <tr>\n",
       "      <th>4</th>\n",
       "      <td>536544</td>\n",
       "      <td>21787</td>\n",
       "      <td>RAIN PONCHO RETROSPOT</td>\n",
       "      <td>2</td>\n",
       "      <td>29-Nov-16</td>\n",
       "      <td>1.66</td>\n",
       "      <td>NaN</td>\n",
       "      <td>United Kingdom</td>\n",
       "      <td>NaN</td>\n",
       "    </tr>\n",
       "  </tbody>\n",
       "</table>\n",
       "</div>"
      ],
      "text/plain": [
       "  invoice_no stock_code                      description  quantity invoice_date  unit_price  customer_id_x         country  customer_id_y\n",
       "0     536414      22139                              NaN        56    29-Nov-16        0.00            NaN  United Kingdom            NaN\n",
       "1     536544      21773  DECORATIVE ROSE BATHROOM BOTTLE         1    29-Nov-16        2.51            NaN  United Kingdom            NaN\n",
       "2     536544      21774  DECORATIVE CATS BATHROOM BOTTLE         2    29-Nov-16        2.51            NaN  United Kingdom            NaN\n",
       "3     536544      21786               POLKADOT RAIN HAT          4    29-Nov-16        0.85            NaN  United Kingdom            NaN\n",
       "4     536544      21787            RAIN PONCHO RETROSPOT         2    29-Nov-16        1.66            NaN  United Kingdom            NaN"
      ]
     },
     "execution_count": 164,
     "metadata": {},
     "output_type": "execute_result"
    }
   ],
   "source": [
    "df_merge.head()"
   ]
  },
  {
   "cell_type": "code",
   "execution_count": 165,
   "id": "7464b3f3-d98d-4027-a5ee-a72438bc0f3f",
   "metadata": {},
   "outputs": [],
   "source": [
    "# Não consigo fazer essa substitução"
   ]
  },
  {
   "cell_type": "code",
   "execution_count": 166,
   "id": "7d56c79d-2047-4885-a994-53f7848484bd",
   "metadata": {},
   "outputs": [],
   "source": [
    "# fazendo o replace\n",
    "df_backup = pd.DataFrame(df_missing['invoice_no'].drop_duplicates())\n",
    "df_backup['customer_id'] = np.arange(19000, 19000+len(df_backup), 1)\n",
    "\n",
    "# merge original data\n",
    "df1 = pd.merge(df1, df_backup, how='left', on='invoice_no')\n",
    "\n",
    "# coalesce\n",
    "df1['customer_id'] = df1['customer_id_x'].combine_first(df1['customer_id_y'])\n",
    "\n",
    "# drio extra column \n",
    "df1 = df1.drop(columns=['customer_id_x', 'customer_id_y'], axis=1)"
   ]
  },
  {
   "cell_type": "code",
   "execution_count": 167,
   "id": "f0dd5379",
   "metadata": {},
   "outputs": [
    {
     "name": "stdout",
     "output_type": "stream",
     "text": [
      "Removed Data: 0.27%\n"
     ]
    }
   ],
   "source": [
    "# remova NA\n",
    "df1 = df1.dropna(subset=['description'])\n",
    "print('Removed Data: {:.2f}%'.format(100 * (1 - (df1.shape[0]/df_raw.shape[0]))))"
   ]
  },
  {
   "cell_type": "code",
   "execution_count": 168,
   "id": "765e0bdb",
   "metadata": {},
   "outputs": [
    {
     "data": {
      "text/plain": [
       "invoice_no      0\n",
       "stock_code      0\n",
       "description     0\n",
       "quantity        0\n",
       "invoice_date    0\n",
       "unit_price      0\n",
       "country         0\n",
       "customer_id     0\n",
       "dtype: int64"
      ]
     },
     "execution_count": 168,
     "metadata": {},
     "output_type": "execute_result"
    }
   ],
   "source": [
    "df1.isna().sum()"
   ]
  },
  {
   "cell_type": "markdown",
   "id": "1404e588",
   "metadata": {},
   "source": [
    "## 1.6. Change Dtypes"
   ]
  },
  {
   "cell_type": "code",
   "execution_count": 169,
   "id": "e1e4fb0e",
   "metadata": {},
   "outputs": [
    {
     "data": {
      "text/plain": [
       "invoice_no       object\n",
       "stock_code       object\n",
       "description      object\n",
       "quantity          int64\n",
       "invoice_date     object\n",
       "unit_price      float64\n",
       "country          object\n",
       "customer_id     float64\n",
       "dtype: object"
      ]
     },
     "execution_count": 169,
     "metadata": {},
     "output_type": "execute_result"
    }
   ],
   "source": [
    "df1.dtypes"
   ]
  },
  {
   "cell_type": "code",
   "execution_count": 170,
   "id": "03283616",
   "metadata": {},
   "outputs": [],
   "source": [
    "# invoice date\n",
    "df1['invoice_date'] = pd.to_datetime(df1['invoice_date'], format='%d-%b-%y')\n",
    "\n",
    "# customer id\n",
    "df1['customer_id'] = df1['customer_id'].astype(int)"
   ]
  },
  {
   "cell_type": "code",
   "execution_count": 171,
   "id": "eb897684",
   "metadata": {},
   "outputs": [
    {
     "data": {
      "text/plain": [
       "invoice_no              object\n",
       "stock_code              object\n",
       "description             object\n",
       "quantity                 int64\n",
       "invoice_date    datetime64[ns]\n",
       "unit_price             float64\n",
       "country                 object\n",
       "customer_id              int64\n",
       "dtype: object"
      ]
     },
     "execution_count": 171,
     "metadata": {},
     "output_type": "execute_result"
    }
   ],
   "source": [
    "df1.dtypes"
   ]
  },
  {
   "cell_type": "markdown",
   "id": "2b74fcaf",
   "metadata": {},
   "source": [
    "## 1.7. Descriptive Statistics"
   ]
  },
  {
   "cell_type": "code",
   "execution_count": 172,
   "id": "1429c962",
   "metadata": {},
   "outputs": [],
   "source": [
    "num_attributes = df1.select_dtypes(include=['int64', 'float64'])\n",
    "cat_attributes = df1.select_dtypes(exclude=['int64', 'float64', 'datetime64[ns]'])"
   ]
  },
  {
   "cell_type": "markdown",
   "id": "33a4e14a",
   "metadata": {},
   "source": [
    "### 1.7.1. Numerical Attributes"
   ]
  },
  {
   "cell_type": "code",
   "execution_count": 173,
   "id": "5cf9aaf1",
   "metadata": {},
   "outputs": [
    {
     "data": {
      "text/html": [
       "<div>\n",
       "<style scoped>\n",
       "    .dataframe tbody tr th:only-of-type {\n",
       "        vertical-align: middle;\n",
       "    }\n",
       "\n",
       "    .dataframe tbody tr th {\n",
       "        vertical-align: top;\n",
       "    }\n",
       "\n",
       "    .dataframe thead th {\n",
       "        text-align: right;\n",
       "    }\n",
       "</style>\n",
       "<table border=\"1\" class=\"dataframe\">\n",
       "  <thead>\n",
       "    <tr style=\"text-align: right;\">\n",
       "      <th></th>\n",
       "      <th>attributes</th>\n",
       "      <th>min</th>\n",
       "      <th>max</th>\n",
       "      <th>range</th>\n",
       "      <th>mean</th>\n",
       "      <th>median</th>\n",
       "      <th>std</th>\n",
       "      <th>skew</th>\n",
       "      <th>kurtosis</th>\n",
       "    </tr>\n",
       "  </thead>\n",
       "  <tbody>\n",
       "    <tr>\n",
       "      <th>0</th>\n",
       "      <td>quantity</td>\n",
       "      <td>-80995.00</td>\n",
       "      <td>80995.0</td>\n",
       "      <td>161990.00</td>\n",
       "      <td>9.603129</td>\n",
       "      <td>3.00</td>\n",
       "      <td>218.007397</td>\n",
       "      <td>-0.281253</td>\n",
       "      <td>120252.449063</td>\n",
       "    </tr>\n",
       "    <tr>\n",
       "      <th>1</th>\n",
       "      <td>unit_price</td>\n",
       "      <td>-11062.06</td>\n",
       "      <td>38970.0</td>\n",
       "      <td>50032.06</td>\n",
       "      <td>4.623519</td>\n",
       "      <td>2.08</td>\n",
       "      <td>96.889538</td>\n",
       "      <td>186.257919</td>\n",
       "      <td>58848.017575</td>\n",
       "    </tr>\n",
       "    <tr>\n",
       "      <th>2</th>\n",
       "      <td>customer_id</td>\n",
       "      <td>12346.00</td>\n",
       "      <td>22709.0</td>\n",
       "      <td>10363.00</td>\n",
       "      <td>16678.153600</td>\n",
       "      <td>16241.00</td>\n",
       "      <td>2907.570262</td>\n",
       "      <td>0.493600</td>\n",
       "      <td>-0.792496</td>\n",
       "    </tr>\n",
       "  </tbody>\n",
       "</table>\n",
       "</div>"
      ],
      "text/plain": [
       "    attributes       min      max      range          mean    median          std        skew       kurtosis\n",
       "0     quantity -80995.00  80995.0  161990.00      9.603129      3.00   218.007397   -0.281253  120252.449063\n",
       "1   unit_price -11062.06  38970.0   50032.06      4.623519      2.08    96.889538  186.257919   58848.017575\n",
       "2  customer_id  12346.00  22709.0   10363.00  16678.153600  16241.00  2907.570262    0.493600      -0.792496"
      ]
     },
     "execution_count": 173,
     "metadata": {},
     "output_type": "execute_result"
    }
   ],
   "source": [
    "# Central Tendency - Mean, Median\n",
    "ct1 = pd.DataFrame(num_attributes.apply(np.mean)).T\n",
    "ct2 = pd.DataFrame(num_attributes.apply(np.median)).T\n",
    "\n",
    "# Dispersion - Desvio Padrão, Mínimo, Máximo, Range, Skew, Kurtosis\n",
    "d1 = pd.DataFrame(num_attributes.apply(np.std)).T\n",
    "d2 = pd.DataFrame(num_attributes.apply(np.min)).T\n",
    "d3 = pd.DataFrame(num_attributes.apply(np.max)).T\n",
    "d4 = pd.DataFrame(num_attributes.apply(lambda x: x.max() - x.min())).T\n",
    "d5 = pd.DataFrame(num_attributes.apply(lambda x: x.skew())).T\n",
    "d6 = pd.DataFrame(num_attributes.apply(lambda x: x.kurtosis())).T\n",
    "\n",
    "# Concatenate\n",
    "m = pd.concat([d2, d3, d4, ct1, ct2, d1, d5, d6]).T.reset_index()\n",
    "m.columns = ['attributes', 'min', 'max', 'range', 'mean', 'median', 'std', 'skew', 'kurtosis']\n",
    "\n",
    "m"
   ]
  },
  {
   "cell_type": "markdown",
   "id": "9aa3f519",
   "metadata": {},
   "source": [
    "#### 1.7.1.1. Numerical Attributes - Investigating"
   ]
  },
  {
   "cell_type": "markdown",
   "id": "79ace96d",
   "metadata": {},
   "source": [
    "1. Quantity Negativa (Pode ser devolução)\n",
    "2. Preço unitário igual a zero (pode ser promoção?)"
   ]
  },
  {
   "cell_type": "markdown",
   "id": "15a06f9c",
   "metadata": {},
   "source": [
    "### 1.7.2. Categorical Attributes"
   ]
  },
  {
   "cell_type": "code",
   "execution_count": 174,
   "id": "585efc52",
   "metadata": {},
   "outputs": [
    {
     "data": {
      "text/html": [
       "<div>\n",
       "<style scoped>\n",
       "    .dataframe tbody tr th:only-of-type {\n",
       "        vertical-align: middle;\n",
       "    }\n",
       "\n",
       "    .dataframe tbody tr th {\n",
       "        vertical-align: top;\n",
       "    }\n",
       "\n",
       "    .dataframe thead th {\n",
       "        text-align: right;\n",
       "    }\n",
       "</style>\n",
       "<table border=\"1\" class=\"dataframe\">\n",
       "  <thead>\n",
       "    <tr style=\"text-align: right;\">\n",
       "      <th></th>\n",
       "      <th>invoice_no</th>\n",
       "      <th>stock_code</th>\n",
       "      <th>description</th>\n",
       "      <th>country</th>\n",
       "    </tr>\n",
       "  </thead>\n",
       "  <tbody>\n",
       "    <tr>\n",
       "      <th>0</th>\n",
       "      <td>536365</td>\n",
       "      <td>85123A</td>\n",
       "      <td>WHITE HANGING HEART T-LIGHT HOLDER</td>\n",
       "      <td>United Kingdom</td>\n",
       "    </tr>\n",
       "    <tr>\n",
       "      <th>1</th>\n",
       "      <td>536365</td>\n",
       "      <td>71053</td>\n",
       "      <td>WHITE METAL LANTERN</td>\n",
       "      <td>United Kingdom</td>\n",
       "    </tr>\n",
       "    <tr>\n",
       "      <th>2</th>\n",
       "      <td>536365</td>\n",
       "      <td>84406B</td>\n",
       "      <td>CREAM CUPID HEARTS COAT HANGER</td>\n",
       "      <td>United Kingdom</td>\n",
       "    </tr>\n",
       "    <tr>\n",
       "      <th>3</th>\n",
       "      <td>536365</td>\n",
       "      <td>84029G</td>\n",
       "      <td>KNITTED UNION FLAG HOT WATER BOTTLE</td>\n",
       "      <td>United Kingdom</td>\n",
       "    </tr>\n",
       "    <tr>\n",
       "      <th>4</th>\n",
       "      <td>536365</td>\n",
       "      <td>84029E</td>\n",
       "      <td>RED WOOLLY HOTTIE WHITE HEART.</td>\n",
       "      <td>United Kingdom</td>\n",
       "    </tr>\n",
       "  </tbody>\n",
       "</table>\n",
       "</div>"
      ],
      "text/plain": [
       "  invoice_no stock_code                          description         country\n",
       "0     536365     85123A   WHITE HANGING HEART T-LIGHT HOLDER  United Kingdom\n",
       "1     536365      71053                  WHITE METAL LANTERN  United Kingdom\n",
       "2     536365     84406B       CREAM CUPID HEARTS COAT HANGER  United Kingdom\n",
       "3     536365     84029G  KNITTED UNION FLAG HOT WATER BOTTLE  United Kingdom\n",
       "4     536365     84029E       RED WOOLLY HOTTIE WHITE HEART.  United Kingdom"
      ]
     },
     "execution_count": 174,
     "metadata": {},
     "output_type": "execute_result"
    }
   ],
   "source": [
    "cat_attributes.head()"
   ]
  },
  {
   "cell_type": "markdown",
   "id": "69c32ea9-90b1-49c2-bec1-e3f831911aac",
   "metadata": {},
   "source": [
    "#### Invoice No"
   ]
  },
  {
   "cell_type": "code",
   "execution_count": 175,
   "id": "2cf7a8d8-00da-4de7-9b36-f7f57f69c0c0",
   "metadata": {},
   "outputs": [
    {
     "data": {
      "text/html": [
       "<div>\n",
       "<style scoped>\n",
       "    .dataframe tbody tr th:only-of-type {\n",
       "        vertical-align: middle;\n",
       "    }\n",
       "\n",
       "    .dataframe tbody tr th {\n",
       "        vertical-align: top;\n",
       "    }\n",
       "\n",
       "    .dataframe thead th {\n",
       "        text-align: right;\n",
       "    }\n",
       "</style>\n",
       "<table border=\"1\" class=\"dataframe\">\n",
       "  <thead>\n",
       "    <tr style=\"text-align: right;\">\n",
       "      <th></th>\n",
       "      <th>invoice_no</th>\n",
       "      <th>stock_code</th>\n",
       "      <th>description</th>\n",
       "      <th>quantity</th>\n",
       "      <th>invoice_date</th>\n",
       "      <th>unit_price</th>\n",
       "      <th>country</th>\n",
       "      <th>customer_id</th>\n",
       "    </tr>\n",
       "  </thead>\n",
       "  <tbody>\n",
       "    <tr>\n",
       "      <th>141</th>\n",
       "      <td>C536379</td>\n",
       "      <td>D</td>\n",
       "      <td>Discount</td>\n",
       "      <td>-1</td>\n",
       "      <td>2016-11-29</td>\n",
       "      <td>27.50</td>\n",
       "      <td>United Kingdom</td>\n",
       "      <td>14527</td>\n",
       "    </tr>\n",
       "    <tr>\n",
       "      <th>154</th>\n",
       "      <td>C536383</td>\n",
       "      <td>35004C</td>\n",
       "      <td>SET OF 3 COLOURED  FLYING DUCKS</td>\n",
       "      <td>-1</td>\n",
       "      <td>2016-11-29</td>\n",
       "      <td>4.65</td>\n",
       "      <td>United Kingdom</td>\n",
       "      <td>15311</td>\n",
       "    </tr>\n",
       "    <tr>\n",
       "      <th>235</th>\n",
       "      <td>C536391</td>\n",
       "      <td>22556</td>\n",
       "      <td>PLASTERS IN TIN CIRCUS PARADE</td>\n",
       "      <td>-12</td>\n",
       "      <td>2016-11-29</td>\n",
       "      <td>1.65</td>\n",
       "      <td>United Kingdom</td>\n",
       "      <td>17548</td>\n",
       "    </tr>\n",
       "    <tr>\n",
       "      <th>236</th>\n",
       "      <td>C536391</td>\n",
       "      <td>21984</td>\n",
       "      <td>PACK OF 12 PINK PAISLEY TISSUES</td>\n",
       "      <td>-24</td>\n",
       "      <td>2016-11-29</td>\n",
       "      <td>0.29</td>\n",
       "      <td>United Kingdom</td>\n",
       "      <td>17548</td>\n",
       "    </tr>\n",
       "    <tr>\n",
       "      <th>237</th>\n",
       "      <td>C536391</td>\n",
       "      <td>21983</td>\n",
       "      <td>PACK OF 12 BLUE PAISLEY TISSUES</td>\n",
       "      <td>-24</td>\n",
       "      <td>2016-11-29</td>\n",
       "      <td>0.29</td>\n",
       "      <td>United Kingdom</td>\n",
       "      <td>17548</td>\n",
       "    </tr>\n",
       "  </tbody>\n",
       "</table>\n",
       "</div>"
      ],
      "text/plain": [
       "    invoice_no stock_code                       description  quantity invoice_date  unit_price         country  customer_id\n",
       "141    C536379          D                          Discount        -1   2016-11-29       27.50  United Kingdom        14527\n",
       "154    C536383     35004C   SET OF 3 COLOURED  FLYING DUCKS        -1   2016-11-29        4.65  United Kingdom        15311\n",
       "235    C536391      22556    PLASTERS IN TIN CIRCUS PARADE        -12   2016-11-29        1.65  United Kingdom        17548\n",
       "236    C536391      21984  PACK OF 12 PINK PAISLEY TISSUES        -24   2016-11-29        0.29  United Kingdom        17548\n",
       "237    C536391      21983  PACK OF 12 BLUE PAISLEY TISSUES        -24   2016-11-29        0.29  United Kingdom        17548"
      ]
     },
     "execution_count": 175,
     "metadata": {},
     "output_type": "execute_result"
    }
   ],
   "source": [
    "# Problema: Temos invoice com letras e numeros\n",
    "#df1['invoice_no'].astype(int)\n",
    "\n",
    "# indentificacao:\n",
    "df_letter_invoices = df1.loc[df1['invoice_no'].apply(lambda x: bool(re.search('[^0-9]+', x))), :]\n",
    "df_letter_invoices.head()"
   ]
  },
  {
   "cell_type": "code",
   "execution_count": 176,
   "id": "9e795acd-2849-4642-a61a-9bc7be2872ac",
   "metadata": {},
   "outputs": [
    {
     "name": "stdout",
     "output_type": "stream",
     "text": [
      "Total Number of invoices: 9291\n",
      "Total Number of negative quantity: 9288\n"
     ]
    }
   ],
   "source": [
    "# Conferindo se todos os valores com letras são negativos\n",
    "print('Total Number of invoices: {}'.format(len(df_letter_invoices)))\n",
    "print('Total Number of negative quantity: {}'.format(len(df_letter_invoices[df_letter_invoices['quantity'] < 0])))\n",
    "\n",
    "\n",
    "# Assumption: Letras indicam retornos"
   ]
  },
  {
   "cell_type": "markdown",
   "id": "a23fe59d-3346-4075-ad36-6b525588e73a",
   "metadata": {},
   "source": [
    "#### Stock Code"
   ]
  },
  {
   "cell_type": "code",
   "execution_count": 177,
   "id": "5d07faf4-19b0-42af-a52f-49fdc34a25c2",
   "metadata": {},
   "outputs": [
    {
     "data": {
      "text/html": [
       "<div>\n",
       "<style scoped>\n",
       "    .dataframe tbody tr th:only-of-type {\n",
       "        vertical-align: middle;\n",
       "    }\n",
       "\n",
       "    .dataframe tbody tr th {\n",
       "        vertical-align: top;\n",
       "    }\n",
       "\n",
       "    .dataframe thead th {\n",
       "        text-align: right;\n",
       "    }\n",
       "</style>\n",
       "<table border=\"1\" class=\"dataframe\">\n",
       "  <thead>\n",
       "    <tr style=\"text-align: right;\">\n",
       "      <th></th>\n",
       "      <th>invoice_no</th>\n",
       "      <th>stock_code</th>\n",
       "      <th>description</th>\n",
       "      <th>quantity</th>\n",
       "      <th>invoice_date</th>\n",
       "      <th>unit_price</th>\n",
       "      <th>country</th>\n",
       "      <th>customer_id</th>\n",
       "    </tr>\n",
       "  </thead>\n",
       "  <tbody>\n",
       "    <tr>\n",
       "      <th>0</th>\n",
       "      <td>536365</td>\n",
       "      <td>85123A</td>\n",
       "      <td>WHITE HANGING HEART T-LIGHT HOLDER</td>\n",
       "      <td>6</td>\n",
       "      <td>2016-11-29</td>\n",
       "      <td>2.55</td>\n",
       "      <td>United Kingdom</td>\n",
       "      <td>17850</td>\n",
       "    </tr>\n",
       "    <tr>\n",
       "      <th>1</th>\n",
       "      <td>536365</td>\n",
       "      <td>71053</td>\n",
       "      <td>WHITE METAL LANTERN</td>\n",
       "      <td>6</td>\n",
       "      <td>2016-11-29</td>\n",
       "      <td>3.39</td>\n",
       "      <td>United Kingdom</td>\n",
       "      <td>17850</td>\n",
       "    </tr>\n",
       "    <tr>\n",
       "      <th>2</th>\n",
       "      <td>536365</td>\n",
       "      <td>84406B</td>\n",
       "      <td>CREAM CUPID HEARTS COAT HANGER</td>\n",
       "      <td>8</td>\n",
       "      <td>2016-11-29</td>\n",
       "      <td>2.75</td>\n",
       "      <td>United Kingdom</td>\n",
       "      <td>17850</td>\n",
       "    </tr>\n",
       "    <tr>\n",
       "      <th>3</th>\n",
       "      <td>536365</td>\n",
       "      <td>84029G</td>\n",
       "      <td>KNITTED UNION FLAG HOT WATER BOTTLE</td>\n",
       "      <td>6</td>\n",
       "      <td>2016-11-29</td>\n",
       "      <td>3.39</td>\n",
       "      <td>United Kingdom</td>\n",
       "      <td>17850</td>\n",
       "    </tr>\n",
       "    <tr>\n",
       "      <th>4</th>\n",
       "      <td>536365</td>\n",
       "      <td>84029E</td>\n",
       "      <td>RED WOOLLY HOTTIE WHITE HEART.</td>\n",
       "      <td>6</td>\n",
       "      <td>2016-11-29</td>\n",
       "      <td>3.39</td>\n",
       "      <td>United Kingdom</td>\n",
       "      <td>17850</td>\n",
       "    </tr>\n",
       "  </tbody>\n",
       "</table>\n",
       "</div>"
      ],
      "text/plain": [
       "  invoice_no stock_code                          description  quantity invoice_date  unit_price         country  customer_id\n",
       "0     536365     85123A   WHITE HANGING HEART T-LIGHT HOLDER         6   2016-11-29        2.55  United Kingdom        17850\n",
       "1     536365      71053                  WHITE METAL LANTERN         6   2016-11-29        3.39  United Kingdom        17850\n",
       "2     536365     84406B       CREAM CUPID HEARTS COAT HANGER         8   2016-11-29        2.75  United Kingdom        17850\n",
       "3     536365     84029G  KNITTED UNION FLAG HOT WATER BOTTLE         6   2016-11-29        3.39  United Kingdom        17850\n",
       "4     536365     84029E       RED WOOLLY HOTTIE WHITE HEART.         6   2016-11-29        3.39  United Kingdom        17850"
      ]
     },
     "execution_count": 177,
     "metadata": {},
     "output_type": "execute_result"
    }
   ],
   "source": [
    "df1.head()"
   ]
  },
  {
   "cell_type": "code",
   "execution_count": 178,
   "id": "42165aaf-f23a-485f-be45-61c426bb1fef",
   "metadata": {},
   "outputs": [
    {
     "data": {
      "text/plain": [
       "array(['POST', 'D', 'DOT', 'M', 'S', 'AMAZONFEE', 'm', 'DCGSSBOY',\n",
       "       'DCGSSGIRL', 'PADS', 'B', 'CRUK'], dtype=object)"
      ]
     },
     "execution_count": 178,
     "metadata": {},
     "output_type": "execute_result"
    }
   ],
   "source": [
    "# stock_code que são apenas letras\n",
    "df1.loc[df1['stock_code'].apply(lambda x: bool(re.search('^[a-zA-Z]+$', x))), 'stock_code'].unique()\n",
    "\n",
    "# Acao:\n",
    "## 1. Remove stock_code in ['POST', 'D', 'M', 'PADS', 'DOT', 'CRUK']"
   ]
  },
  {
   "cell_type": "markdown",
   "id": "933a8363-4fb7-4316-a999-1a5ea0348dea",
   "metadata": {},
   "source": [
    "#### Description"
   ]
  },
  {
   "cell_type": "code",
   "execution_count": 179,
   "id": "b1d46a23-60d1-4a17-882c-0be30b1f2007",
   "metadata": {},
   "outputs": [
    {
     "data": {
      "text/html": [
       "<div>\n",
       "<style scoped>\n",
       "    .dataframe tbody tr th:only-of-type {\n",
       "        vertical-align: middle;\n",
       "    }\n",
       "\n",
       "    .dataframe tbody tr th {\n",
       "        vertical-align: top;\n",
       "    }\n",
       "\n",
       "    .dataframe thead th {\n",
       "        text-align: right;\n",
       "    }\n",
       "</style>\n",
       "<table border=\"1\" class=\"dataframe\">\n",
       "  <thead>\n",
       "    <tr style=\"text-align: right;\">\n",
       "      <th></th>\n",
       "      <th>invoice_no</th>\n",
       "      <th>stock_code</th>\n",
       "      <th>description</th>\n",
       "      <th>quantity</th>\n",
       "      <th>invoice_date</th>\n",
       "      <th>unit_price</th>\n",
       "      <th>country</th>\n",
       "      <th>customer_id</th>\n",
       "    </tr>\n",
       "  </thead>\n",
       "  <tbody>\n",
       "    <tr>\n",
       "      <th>0</th>\n",
       "      <td>536365</td>\n",
       "      <td>85123A</td>\n",
       "      <td>WHITE HANGING HEART T-LIGHT HOLDER</td>\n",
       "      <td>6</td>\n",
       "      <td>2016-11-29</td>\n",
       "      <td>2.55</td>\n",
       "      <td>United Kingdom</td>\n",
       "      <td>17850</td>\n",
       "    </tr>\n",
       "    <tr>\n",
       "      <th>1</th>\n",
       "      <td>536365</td>\n",
       "      <td>71053</td>\n",
       "      <td>WHITE METAL LANTERN</td>\n",
       "      <td>6</td>\n",
       "      <td>2016-11-29</td>\n",
       "      <td>3.39</td>\n",
       "      <td>United Kingdom</td>\n",
       "      <td>17850</td>\n",
       "    </tr>\n",
       "    <tr>\n",
       "      <th>2</th>\n",
       "      <td>536365</td>\n",
       "      <td>84406B</td>\n",
       "      <td>CREAM CUPID HEARTS COAT HANGER</td>\n",
       "      <td>8</td>\n",
       "      <td>2016-11-29</td>\n",
       "      <td>2.75</td>\n",
       "      <td>United Kingdom</td>\n",
       "      <td>17850</td>\n",
       "    </tr>\n",
       "    <tr>\n",
       "      <th>3</th>\n",
       "      <td>536365</td>\n",
       "      <td>84029G</td>\n",
       "      <td>KNITTED UNION FLAG HOT WATER BOTTLE</td>\n",
       "      <td>6</td>\n",
       "      <td>2016-11-29</td>\n",
       "      <td>3.39</td>\n",
       "      <td>United Kingdom</td>\n",
       "      <td>17850</td>\n",
       "    </tr>\n",
       "    <tr>\n",
       "      <th>4</th>\n",
       "      <td>536365</td>\n",
       "      <td>84029E</td>\n",
       "      <td>RED WOOLLY HOTTIE WHITE HEART.</td>\n",
       "      <td>6</td>\n",
       "      <td>2016-11-29</td>\n",
       "      <td>3.39</td>\n",
       "      <td>United Kingdom</td>\n",
       "      <td>17850</td>\n",
       "    </tr>\n",
       "  </tbody>\n",
       "</table>\n",
       "</div>"
      ],
      "text/plain": [
       "  invoice_no stock_code                          description  quantity invoice_date  unit_price         country  customer_id\n",
       "0     536365     85123A   WHITE HANGING HEART T-LIGHT HOLDER         6   2016-11-29        2.55  United Kingdom        17850\n",
       "1     536365      71053                  WHITE METAL LANTERN         6   2016-11-29        3.39  United Kingdom        17850\n",
       "2     536365     84406B       CREAM CUPID HEARTS COAT HANGER         8   2016-11-29        2.75  United Kingdom        17850\n",
       "3     536365     84029G  KNITTED UNION FLAG HOT WATER BOTTLE         6   2016-11-29        3.39  United Kingdom        17850\n",
       "4     536365     84029E       RED WOOLLY HOTTIE WHITE HEART.         6   2016-11-29        3.39  United Kingdom        17850"
      ]
     },
     "execution_count": 179,
     "metadata": {},
     "output_type": "execute_result"
    }
   ],
   "source": [
    "df1.head()\n",
    "\n",
    "# Acao:\n",
    "## 2. Delete description"
   ]
  },
  {
   "cell_type": "markdown",
   "id": "acaa52fc-6b64-4a4d-a3f2-6e2b6ede3db0",
   "metadata": {},
   "source": [
    "#### Country"
   ]
  },
  {
   "cell_type": "code",
   "execution_count": 180,
   "id": "4d8bb79a-ccad-46a7-a39e-61dddc5dcfe0",
   "metadata": {},
   "outputs": [
    {
     "data": {
      "text/plain": [
       "array(['United Kingdom', 'France', 'Australia', 'Netherlands', 'Germany',\n",
       "       'Norway', 'EIRE', 'Switzerland', 'Spain', 'Poland', 'Portugal',\n",
       "       'Italy', 'Belgium', 'Lithuania', 'Japan', 'Iceland',\n",
       "       'Channel Islands', 'Denmark', 'Cyprus', 'Sweden', 'Austria',\n",
       "       'Israel', 'Finland', 'Bahrain', 'Greece', 'Hong Kong', 'Singapore',\n",
       "       'Lebanon', 'United Arab Emirates', 'Saudi Arabia',\n",
       "       'Czech Republic', 'Canada', 'Unspecified', 'Brazil', 'USA',\n",
       "       'European Community', 'Malta', 'RSA'], dtype=object)"
      ]
     },
     "execution_count": 180,
     "metadata": {},
     "output_type": "execute_result"
    }
   ],
   "source": [
    "df1['country'].unique()"
   ]
  },
  {
   "cell_type": "code",
   "execution_count": 181,
   "id": "9b25bf12-589a-42ef-b657-ef566c4f0e63",
   "metadata": {},
   "outputs": [
    {
     "data": {
      "text/plain": [
       "United Kingdom    0.914089\n",
       "Germany           0.017569\n",
       "France            0.015833\n",
       "EIRE              0.015165\n",
       "Spain             0.004687\n",
       "Name: country, dtype: float64"
      ]
     },
     "execution_count": 181,
     "metadata": {},
     "output_type": "execute_result"
    }
   ],
   "source": [
    "df1['country'].value_counts(normalize=True).head()"
   ]
  },
  {
   "cell_type": "code",
   "execution_count": 182,
   "id": "879aca3a-82f1-4a7d-9141-4713eb26cfb8",
   "metadata": {},
   "outputs": [
    {
     "data": {
      "text/html": [
       "<div>\n",
       "<style scoped>\n",
       "    .dataframe tbody tr th:only-of-type {\n",
       "        vertical-align: middle;\n",
       "    }\n",
       "\n",
       "    .dataframe tbody tr th {\n",
       "        vertical-align: top;\n",
       "    }\n",
       "\n",
       "    .dataframe thead th {\n",
       "        text-align: right;\n",
       "    }\n",
       "</style>\n",
       "<table border=\"1\" class=\"dataframe\">\n",
       "  <thead>\n",
       "    <tr style=\"text-align: right;\">\n",
       "      <th></th>\n",
       "      <th>country</th>\n",
       "      <th>customer_id</th>\n",
       "    </tr>\n",
       "  </thead>\n",
       "  <tbody>\n",
       "    <tr>\n",
       "      <th>36</th>\n",
       "      <td>United Kingdom</td>\n",
       "      <td>6133</td>\n",
       "    </tr>\n",
       "    <tr>\n",
       "      <th>14</th>\n",
       "      <td>Germany</td>\n",
       "      <td>95</td>\n",
       "    </tr>\n",
       "    <tr>\n",
       "      <th>13</th>\n",
       "      <td>France</td>\n",
       "      <td>90</td>\n",
       "    </tr>\n",
       "    <tr>\n",
       "      <th>10</th>\n",
       "      <td>EIRE</td>\n",
       "      <td>44</td>\n",
       "    </tr>\n",
       "    <tr>\n",
       "      <th>31</th>\n",
       "      <td>Spain</td>\n",
       "      <td>31</td>\n",
       "    </tr>\n",
       "  </tbody>\n",
       "</table>\n",
       "</div>"
      ],
      "text/plain": [
       "           country  customer_id\n",
       "36  United Kingdom         6133\n",
       "14         Germany           95\n",
       "13          France           90\n",
       "10            EIRE           44\n",
       "31           Spain           31"
      ]
     },
     "execution_count": 182,
     "metadata": {},
     "output_type": "execute_result"
    }
   ],
   "source": [
    "df1[['customer_id', 'country']].drop_duplicates().groupby('country').count().reset_index().sort_values('customer_id', ascending=False).head()"
   ]
  },
  {
   "cell_type": "markdown",
   "id": "fd0ea31a",
   "metadata": {},
   "source": [
    "# 2.0. Filtragem de Variáveis"
   ]
  },
  {
   "cell_type": "code",
   "execution_count": 183,
   "id": "dabb6f4c",
   "metadata": {},
   "outputs": [],
   "source": [
    "df2 = df1.copy()"
   ]
  },
  {
   "cell_type": "code",
   "execution_count": 184,
   "id": "1d0765da-3f2a-4d03-9b99-116d4924d790",
   "metadata": {},
   "outputs": [],
   "source": [
    "# unit_price\n",
    "df2 = df2.loc[df2['unit_price'] >= 0.04, :]\n",
    "\n",
    "# stock_code\n",
    "df2 = df2[~df2['stock_code'].isin(['POST', 'D', 'M', 'PADS', 'DOT', 'CRUK'])]\n",
    "df2 = df2[~df2['stock_code'].isin(['POST', 'D', 'DOT', 'M', 'S', 'AMAZONFEE', 'm', 'DCGSSBOY', 'DCGSSGIRL', 'PADS', 'B', 'CRUK'])]\n",
    "\n",
    "# description\n",
    "df2 = df2.drop(columns='description', axis=1)\n",
    "\n",
    "# map\n",
    "df2 = df2[~df2['country'].isin(['European Comunity', 'Unspecified'])]\n",
    "\n",
    "\n",
    "df2_returns = df2.loc[df2['quantity'] < 0, :]\n",
    "df2_purchases = df2.loc[df2['quantity'] >= 0, :]"
   ]
  },
  {
   "cell_type": "markdown",
   "id": "04661c70",
   "metadata": {},
   "source": [
    "# 3.0. Feature Engineering"
   ]
  },
  {
   "cell_type": "code",
   "execution_count": 284,
   "id": "4e053057",
   "metadata": {},
   "outputs": [],
   "source": [
    "# Feature ideas:\n",
    "## Moving Average - 7d - 15d - 30d\n",
    "## Sazonalidade"
   ]
  },
  {
   "cell_type": "code",
   "execution_count": 285,
   "id": "c052e19e",
   "metadata": {},
   "outputs": [],
   "source": [
    "df3 = df2.copy()"
   ]
  },
  {
   "cell_type": "markdown",
   "id": "84ddfc01",
   "metadata": {},
   "source": [
    "## 3.1. Feature Creation"
   ]
  },
  {
   "cell_type": "code",
   "execution_count": 286,
   "id": "4669b722",
   "metadata": {},
   "outputs": [],
   "source": [
    "# data reference\n",
    "df_ref = df3.drop(['invoice_no', 'stock_code', 'quantity', 'invoice_date', 'unit_price', 'country'], axis=1).drop_duplicates(ignore_index=True)"
   ]
  },
  {
   "cell_type": "markdown",
   "id": "87e95998-67ff-49e8-81ba-b7de1ed84c7d",
   "metadata": {},
   "source": [
    "### 3.1.1. Gross Revenue"
   ]
  },
  {
   "cell_type": "code",
   "execution_count": 287,
   "id": "882e91b1",
   "metadata": {},
   "outputs": [
    {
     "name": "stderr",
     "output_type": "stream",
     "text": [
      "/home/tadeu/venvs/insiders_project/lib/python3.9/site-packages/pandas/core/indexing.py:1773: SettingWithCopyWarning: \n",
      "A value is trying to be set on a copy of a slice from a DataFrame.\n",
      "Try using .loc[row_indexer,col_indexer] = value instead\n",
      "\n",
      "See the caveats in the documentation: https://pandas.pydata.org/pandas-docs/stable/user_guide/indexing.html#returning-a-view-versus-a-copy\n",
      "  self._setitem_single_column(ilocs[0], value, pi)\n"
     ]
    },
    {
     "data": {
      "text/plain": [
       "customer_id       0\n",
       "gross_revenue    91\n",
       "dtype: int64"
      ]
     },
     "execution_count": 287,
     "metadata": {},
     "output_type": "execute_result"
    }
   ],
   "source": [
    "# Gross Revenue - Faturamento - Quantity * Price\n",
    "df2_purchases.loc[:, 'gross_revenue']  = df2_purchases.loc[:, 'quantity'] * df2_purchases.loc[:, 'unit_price']\n",
    "\n",
    "# Monetary\n",
    "df_monetary = df2_purchases.loc[:, ['customer_id', 'gross_revenue']].groupby('customer_id').sum().reset_index()\n",
    "df_ref = pd.merge(df_ref, df_monetary, on='customer_id', how='left')\n",
    "df_ref.isna().sum()"
   ]
  },
  {
   "cell_type": "markdown",
   "id": "f1ae330d-0a66-4fd2-9961-ebe29e7c6298",
   "metadata": {},
   "source": [
    "### 3.1.2. Recency - Day from last purchase"
   ]
  },
  {
   "cell_type": "code",
   "execution_count": 288,
   "id": "e23e8978",
   "metadata": {},
   "outputs": [
    {
     "data": {
      "text/plain": [
       "customer_id       0\n",
       "gross_revenue    91\n",
       "recency_days     91\n",
       "dtype: int64"
      ]
     },
     "execution_count": 288,
     "metadata": {},
     "output_type": "execute_result"
    }
   ],
   "source": [
    "# Recency - Last Day purchase\n",
    "df_recency = df2_purchases.loc[:, ['customer_id', 'invoice_date']].groupby('customer_id').max().reset_index()\n",
    "df_recency['recency_days'] = (df2_purchases['invoice_date'].max() - df_recency['invoice_date']).dt.days\n",
    "df_recency = df_recency[['customer_id', 'recency_days']].copy()\n",
    "df_ref = pd.merge(df_ref, df_recency, on='customer_id', how='left')\n",
    "\n",
    "df_ref.isna().sum()"
   ]
  },
  {
   "cell_type": "markdown",
   "id": "9a107b55-ec2c-4b99-9d1a-622633c93bdb",
   "metadata": {},
   "source": [
    "### 3.1.3. Quantity of purchases"
   ]
  },
  {
   "cell_type": "code",
   "execution_count": 289,
   "id": "1a9e0948",
   "metadata": {},
   "outputs": [
    {
     "data": {
      "text/plain": [
       "customer_id       0\n",
       "gross_revenue    91\n",
       "recency_days     91\n",
       "qtde_invoices    91\n",
       "dtype: int64"
      ]
     },
     "execution_count": 289,
     "metadata": {},
     "output_type": "execute_result"
    }
   ],
   "source": [
    " # Numero de produtos\n",
    "df_freq = (df2_purchases.loc[:, ['customer_id', 'invoice_no']].drop_duplicates()\n",
    "                                                             .groupby( 'customer_id' )\n",
    "                                                             .count()\n",
    "                                                             .reset_index()\n",
    "                                                             .rename( columns={'invoice_no': 'qtde_invoices'}) )\n",
    "df_ref = pd.merge( df_ref, df_freq, on='customer_id', how='left' )\n",
    "df_ref.isna().sum()"
   ]
  },
  {
   "cell_type": "markdown",
   "id": "439f4ad2",
   "metadata": {},
   "source": [
    "### 3.1.4. Quantity of product purchases"
   ]
  },
  {
   "cell_type": "code",
   "execution_count": 290,
   "id": "843a6df6",
   "metadata": {},
   "outputs": [
    {
     "data": {
      "text/plain": [
       "customer_id       0\n",
       "gross_revenue    91\n",
       "recency_days     91\n",
       "qtde_invoices    91\n",
       "qtde_items       91\n",
       "dtype: int64"
      ]
     },
     "execution_count": 290,
     "metadata": {},
     "output_type": "execute_result"
    }
   ],
   "source": [
    "# Numero de produtos\n",
    "df_freq = (df2_purchases.loc[:, ['customer_id', 'quantity']].groupby( 'customer_id' ).sum()\n",
    "                                                           .reset_index()\n",
    "                                                           .rename( columns={'quantity': 'qtde_items'} ) )\n",
    "df_ref = pd.merge( df_ref, df_freq, on='customer_id', how='left' )\n",
    "df_ref.isna().sum()"
   ]
  },
  {
   "cell_type": "markdown",
   "id": "84390f77",
   "metadata": {},
   "source": [
    "### 3.1.5. Quantity of Products"
   ]
  },
  {
   "cell_type": "code",
   "execution_count": 291,
   "id": "dda2652d",
   "metadata": {},
   "outputs": [
    {
     "data": {
      "text/plain": [
       "customer_id       0\n",
       "gross_revenue    91\n",
       "recency_days     91\n",
       "qtde_invoices    91\n",
       "qtde_items       91\n",
       "qtde_products    91\n",
       "dtype: int64"
      ]
     },
     "execution_count": 291,
     "metadata": {},
     "output_type": "execute_result"
    }
   ],
   "source": [
    "# Numero de produtos\n",
    "df_freq = (df2_purchases.loc[:, ['customer_id', 'stock_code']].groupby( 'customer_id' ).count()\n",
    "                                                           .reset_index()\n",
    "                                                           .rename( columns={'stock_code': 'qtde_products'} ) )\n",
    "df_ref = pd.merge( df_ref, df_freq, on='customer_id', how='left' )\n",
    "df_ref.isna().sum()"
   ]
  },
  {
   "cell_type": "markdown",
   "id": "bdebec59-a5e3-45f7-8628-827dbacd89a2",
   "metadata": {},
   "source": [
    "### 3.1.6. Average Ticket Value"
   ]
  },
  {
   "cell_type": "code",
   "execution_count": 292,
   "id": "d9c1eda5",
   "metadata": {},
   "outputs": [
    {
     "data": {
      "text/plain": [
       "customer_id       0\n",
       "gross_revenue    91\n",
       "recency_days     91\n",
       "qtde_invoices    91\n",
       "qtde_items       91\n",
       "qtde_products    91\n",
       "avg_ticket       91\n",
       "dtype: int64"
      ]
     },
     "execution_count": 292,
     "metadata": {},
     "output_type": "execute_result"
    }
   ],
   "source": [
    "# Avg Ticket\n",
    "avg_ticket = df2_purchases.loc[:, ['customer_id', 'gross_revenue']].groupby('customer_id').mean().reset_index().rename(columns={'gross_revenue':'avg_ticket'})\n",
    "df_ref = pd.merge(df_ref, avg_ticket, on='customer_id', how='left')\n",
    "\n",
    "df_ref.isna().sum()"
   ]
  },
  {
   "cell_type": "markdown",
   "id": "08b42c47-9c95-4f71-83a8-27f43f362d92",
   "metadata": {},
   "source": [
    "### 3.1.7. Average Recency Days"
   ]
  },
  {
   "cell_type": "code",
   "execution_count": 293,
   "id": "402534e7",
   "metadata": {},
   "outputs": [
    {
     "data": {
      "text/plain": [
       "customer_id            0\n",
       "gross_revenue         91\n",
       "recency_days          91\n",
       "qtde_invoices         91\n",
       "qtde_items            91\n",
       "qtde_products         91\n",
       "avg_ticket            91\n",
       "avg_recency_days    2816\n",
       "dtype: int64"
      ]
     },
     "execution_count": 293,
     "metadata": {},
     "output_type": "execute_result"
    }
   ],
   "source": [
    " # Average recency days\n",
    "df_aux = df2[['customer_id', 'invoice_date']].drop_duplicates().sort_values( ['customer_id', 'invoice_date'], ascending=['False', 'False'] )\n",
    "df_aux['next_customer_id'] = df_aux['customer_id'].shift() # next customer\n",
    "df_aux['previous_date'] = df_aux['invoice_date'].shift() # next invoince date\n",
    "\n",
    "df_aux['avg_recency_days'] = df_aux.apply( lambda x: ( x['invoice_date'] - x['previous_date'] ).days if x['customer_id'] == x['next_customer_id'] else np.nan, axis=1 )\n",
    "\n",
    "df_aux = df_aux.drop( ['invoice_date', 'next_customer_id', 'previous_date'], axis=1 ).dropna()\n",
    "\n",
    "# average recency \n",
    "df_avg_recency_days = df_aux.groupby( 'customer_id' ).mean().reset_index()\n",
    "\n",
    "# merge\n",
    "df_ref = pd.merge( df_ref, df_avg_recency_days, on='customer_id', how='left' )\n",
    "df_ref.isna().sum()"
   ]
  },
  {
   "cell_type": "markdown",
   "id": "d2a1a963-ac87-462d-a103-9ee0f94d20b5",
   "metadata": {},
   "source": [
    "### 3.1.8. Frequency Purchase"
   ]
  },
  {
   "cell_type": "code",
   "execution_count": 294,
   "id": "cf298d64",
   "metadata": {},
   "outputs": [],
   "source": [
    "df_max = df2[['customer_id', 'invoice_date']].drop_duplicates().groupby('customer_id').max()\n",
    "df_max = df2[['customer_id', 'invoice_date']].drop_duplicates().groupby('customer_id').min()\n",
    "df_purchase = df2[['customer_id', 'invoice_date']].drop_duplicates().groupby('customer_id').count()"
   ]
  },
  {
   "cell_type": "code",
   "execution_count": 295,
   "id": "a87d751d",
   "metadata": {},
   "outputs": [],
   "source": [
    "df_aux = df2[['customer_id', 'invoice_no', 'invoice_date']].drop_duplicates().groupby('customer_id').agg(max_=('invoice_date', 'max'),\n",
    "                                                                                                         min_=('invoice_date', 'min'),\n",
    "                                                                                                         days_=('invoice_date', lambda x: ((x.max() - x.min()).days) + 1),\n",
    "                                                                                                         buy_=('invoice_no', 'count')).reset_index()\n",
    "\n",
    "# frequency\n",
    "df_aux['frequency'] = df_aux[['buy_', 'days_']].apply(lambda x: x['buy_'] / x['days_'] if x['days_'] != 0 else 0, axis=1)\n",
    "\n",
    "# merge\n",
    "df_ref = pd.merge(df_ref, df_aux[['customer_id', 'frequency']], how='left', on='customer_id')"
   ]
  },
  {
   "cell_type": "code",
   "execution_count": 296,
   "id": "72d55991",
   "metadata": {},
   "outputs": [
    {
     "data": {
      "text/plain": [
       "customer_id            0\n",
       "gross_revenue         91\n",
       "recency_days          91\n",
       "qtde_invoices         91\n",
       "qtde_items            91\n",
       "qtde_products         91\n",
       "avg_ticket            91\n",
       "avg_recency_days    2816\n",
       "frequency              0\n",
       "dtype: int64"
      ]
     },
     "execution_count": 296,
     "metadata": {},
     "output_type": "execute_result"
    }
   ],
   "source": [
    "df_ref.isna().sum()"
   ]
  },
  {
   "cell_type": "markdown",
   "id": "5a336e1c",
   "metadata": {},
   "source": [
    "### 3.1.9. Number of Returns"
   ]
  },
  {
   "cell_type": "code",
   "execution_count": 297,
   "id": "b7304348",
   "metadata": {},
   "outputs": [
    {
     "data": {
      "text/plain": [
       "customer_id            0\n",
       "gross_revenue         91\n",
       "recency_days          91\n",
       "qtde_invoices         91\n",
       "qtde_items            91\n",
       "qtde_products         91\n",
       "avg_ticket            91\n",
       "avg_recency_days    2816\n",
       "frequency              0\n",
       "qtde_returns           0\n",
       "dtype: int64"
      ]
     },
     "execution_count": 297,
     "metadata": {},
     "output_type": "execute_result"
    }
   ],
   "source": [
    " # Number of Returns\n",
    "df_returns = df2_returns[['customer_id', 'quantity']].groupby( 'customer_id' ).sum().reset_index().rename( columns={'quantity':'qtde_returns'} )\n",
    "df_returns['qtde_returns'] = df_returns['qtde_returns'] * -1\n",
    "\n",
    "df_ref = pd.merge( df_ref, df_returns, how='left', on='customer_id' )\n",
    "df_ref.loc[df_ref['qtde_returns'].isna(), 'qtde_returns'] = 0\n",
    "\n",
    "df_ref.isna().sum()"
   ]
  },
  {
   "cell_type": "markdown",
   "id": "e05ceb89",
   "metadata": {},
   "source": [
    "### 3.1.10. Basket Size"
   ]
  },
  {
   "cell_type": "code",
   "execution_count": 298,
   "id": "341d541b",
   "metadata": {},
   "outputs": [
    {
     "data": {
      "text/plain": [
       "customer_id            0\n",
       "gross_revenue         91\n",
       "recency_days          91\n",
       "qtde_invoices         91\n",
       "qtde_items            91\n",
       "qtde_products         91\n",
       "avg_ticket            91\n",
       "avg_recency_days    2816\n",
       "frequency              0\n",
       "qtde_returns           0\n",
       "avg_basket_size       91\n",
       "dtype: int64"
      ]
     },
     "execution_count": 298,
     "metadata": {},
     "output_type": "execute_result"
    }
   ],
   "source": [
    "df_aux = ( df2_purchases.loc[:, ['customer_id', 'invoice_no', 'quantity']].groupby( 'customer_id' )\n",
    "                                                                            .agg( n_purchase=( 'invoice_no', 'nunique'),\n",
    "                                                                                  n_products=( 'quantity', 'sum' ) )\n",
    "                                                                            .reset_index() )\n",
    "\n",
    "# calculation\n",
    "df_aux['avg_basket_size'] = df_aux['n_products'] / df_aux['n_purchase']\n",
    "\n",
    "# merge\n",
    "df_ref = pd.merge( df_ref, df_aux[['customer_id', 'avg_basket_size']], how='left', on='customer_id' )\n",
    "df_ref.isna().sum()"
   ]
  },
  {
   "cell_type": "markdown",
   "id": "76aec742",
   "metadata": {},
   "source": [
    "### 3.1.11 Unique Basket Size"
   ]
  },
  {
   "cell_type": "code",
   "execution_count": 299,
   "id": "21061c91",
   "metadata": {},
   "outputs": [
    {
     "data": {
      "text/plain": [
       "customer_id                  0\n",
       "gross_revenue               91\n",
       "recency_days                91\n",
       "qtde_invoices               91\n",
       "qtde_items                  91\n",
       "qtde_products               91\n",
       "avg_ticket                  91\n",
       "avg_recency_days          2816\n",
       "frequency                    0\n",
       "qtde_returns                 0\n",
       "avg_basket_size             91\n",
       "avg_unique_basket_size      91\n",
       "dtype: int64"
      ]
     },
     "execution_count": 299,
     "metadata": {},
     "output_type": "execute_result"
    }
   ],
   "source": [
    "df_aux = ( df2_purchases.loc[:, ['customer_id', 'invoice_no', 'stock_code']].groupby( 'customer_id' )\n",
    "                                                                            .agg( n_purchase=( 'invoice_no', 'nunique'),\n",
    "                                                                                   n_products=( 'stock_code', 'nunique' ) )\n",
    "                                                                            .reset_index() )\n",
    "\n",
    "# calculation\n",
    "df_aux['avg_unique_basket_size'] = df_aux['n_products'] / df_aux['n_purchase']\n",
    "\n",
    "# merge\n",
    "df_ref = pd.merge( df_ref, df_aux[['customer_id', 'avg_unique_basket_size']], how='left', on='customer_id' )\n",
    "df_ref.isna().sum()"
   ]
  },
  {
   "cell_type": "markdown",
   "id": "9fe95107",
   "metadata": {},
   "source": [
    "# 4.0. EDA - Exploratory Data Analysis"
   ]
  },
  {
   "cell_type": "code",
   "execution_count": 300,
   "id": "2abf9d53",
   "metadata": {},
   "outputs": [
    {
     "data": {
      "text/plain": [
       "customer_id               0\n",
       "gross_revenue             0\n",
       "recency_days              0\n",
       "qtde_invoices             0\n",
       "qtde_items                0\n",
       "qtde_products             0\n",
       "avg_ticket                0\n",
       "avg_recency_days          0\n",
       "frequency                 0\n",
       "qtde_returns              0\n",
       "avg_basket_size           0\n",
       "avg_unique_basket_size    0\n",
       "dtype: int64"
      ]
     },
     "execution_count": 300,
     "metadata": {},
     "output_type": "execute_result"
    }
   ],
   "source": [
    "df4 = df_ref.dropna()\n",
    "df4.isna().sum()"
   ]
  },
  {
   "cell_type": "markdown",
   "id": "70ffa3c7",
   "metadata": {},
   "source": [
    "## 4.1. Univariate Analysis"
   ]
  },
  {
   "cell_type": "code",
   "execution_count": 313,
   "id": "a422f5df",
   "metadata": {},
   "outputs": [
    {
     "data": {
      "text/html": [
       "<div>\n",
       "<style scoped>\n",
       "    .dataframe tbody tr th:only-of-type {\n",
       "        vertical-align: middle;\n",
       "    }\n",
       "\n",
       "    .dataframe tbody tr th {\n",
       "        vertical-align: top;\n",
       "    }\n",
       "\n",
       "    .dataframe thead th {\n",
       "        text-align: right;\n",
       "    }\n",
       "</style>\n",
       "<table border=\"1\" class=\"dataframe\">\n",
       "  <thead>\n",
       "    <tr style=\"text-align: right;\">\n",
       "      <th></th>\n",
       "      <th>customer_id</th>\n",
       "      <th>gross_revenue</th>\n",
       "      <th>recency_days</th>\n",
       "      <th>qtde_invoices</th>\n",
       "      <th>qtde_items</th>\n",
       "      <th>qtde_products</th>\n",
       "      <th>avg_ticket</th>\n",
       "      <th>avg_recency_days</th>\n",
       "      <th>frequency</th>\n",
       "      <th>qtde_returns</th>\n",
       "      <th>avg_basket_size</th>\n",
       "      <th>avg_unique_basket_size</th>\n",
       "    </tr>\n",
       "  </thead>\n",
       "  <tbody>\n",
       "    <tr>\n",
       "      <th>0</th>\n",
       "      <td>17850</td>\n",
       "      <td>5391.21</td>\n",
       "      <td>372.0</td>\n",
       "      <td>34.0</td>\n",
       "      <td>1733.0</td>\n",
       "      <td>297.0</td>\n",
       "      <td>18.152222</td>\n",
       "      <td>35.500000</td>\n",
       "      <td>0.486111</td>\n",
       "      <td>40.0</td>\n",
       "      <td>50.970588</td>\n",
       "      <td>0.617647</td>\n",
       "    </tr>\n",
       "    <tr>\n",
       "      <th>1</th>\n",
       "      <td>13047</td>\n",
       "      <td>3232.59</td>\n",
       "      <td>56.0</td>\n",
       "      <td>9.0</td>\n",
       "      <td>1390.0</td>\n",
       "      <td>171.0</td>\n",
       "      <td>18.904035</td>\n",
       "      <td>27.250000</td>\n",
       "      <td>0.048780</td>\n",
       "      <td>35.0</td>\n",
       "      <td>154.444444</td>\n",
       "      <td>11.666667</td>\n",
       "    </tr>\n",
       "    <tr>\n",
       "      <th>2</th>\n",
       "      <td>12583</td>\n",
       "      <td>6705.38</td>\n",
       "      <td>2.0</td>\n",
       "      <td>15.0</td>\n",
       "      <td>5028.0</td>\n",
       "      <td>232.0</td>\n",
       "      <td>28.902500</td>\n",
       "      <td>23.187500</td>\n",
       "      <td>0.045699</td>\n",
       "      <td>50.0</td>\n",
       "      <td>335.200000</td>\n",
       "      <td>7.600000</td>\n",
       "    </tr>\n",
       "    <tr>\n",
       "      <th>3</th>\n",
       "      <td>13748</td>\n",
       "      <td>948.25</td>\n",
       "      <td>95.0</td>\n",
       "      <td>5.0</td>\n",
       "      <td>439.0</td>\n",
       "      <td>28.0</td>\n",
       "      <td>33.866071</td>\n",
       "      <td>92.666667</td>\n",
       "      <td>0.017921</td>\n",
       "      <td>0.0</td>\n",
       "      <td>87.800000</td>\n",
       "      <td>4.800000</td>\n",
       "    </tr>\n",
       "    <tr>\n",
       "      <th>4</th>\n",
       "      <td>15100</td>\n",
       "      <td>876.00</td>\n",
       "      <td>333.0</td>\n",
       "      <td>3.0</td>\n",
       "      <td>80.0</td>\n",
       "      <td>3.0</td>\n",
       "      <td>292.000000</td>\n",
       "      <td>8.600000</td>\n",
       "      <td>0.136364</td>\n",
       "      <td>22.0</td>\n",
       "      <td>26.666667</td>\n",
       "      <td>0.333333</td>\n",
       "    </tr>\n",
       "  </tbody>\n",
       "</table>\n",
       "</div>"
      ],
      "text/plain": [
       "   customer_id  gross_revenue  recency_days  qtde_invoices  qtde_items  qtde_products  avg_ticket  avg_recency_days  frequency  qtde_returns  avg_basket_size  avg_unique_basket_size\n",
       "0        17850        5391.21         372.0           34.0      1733.0          297.0   18.152222         35.500000   0.486111          40.0        50.970588                0.617647\n",
       "1        13047        3232.59          56.0            9.0      1390.0          171.0   18.904035         27.250000   0.048780          35.0       154.444444               11.666667\n",
       "2        12583        6705.38           2.0           15.0      5028.0          232.0   28.902500         23.187500   0.045699          50.0       335.200000                7.600000\n",
       "3        13748         948.25          95.0            5.0       439.0           28.0   33.866071         92.666667   0.017921           0.0        87.800000                4.800000\n",
       "4        15100         876.00         333.0            3.0        80.0            3.0  292.000000          8.600000   0.136364          22.0        26.666667                0.333333"
      ]
     },
     "execution_count": 313,
     "metadata": {},
     "output_type": "execute_result"
    }
   ],
   "source": [
    "df4.head()"
   ]
  },
  {
   "cell_type": "code",
   "execution_count": 301,
   "id": "83c72e1c",
   "metadata": {},
   "outputs": [
    {
     "data": {
      "application/vnd.jupyter.widget-view+json": {
       "model_id": "39c7b11061bb458783d3573a0ebe21b3",
       "version_major": 2,
       "version_minor": 0
      },
      "text/plain": [
       "Summarize dataset:   0%|          | 0/5 [00:00<?, ?it/s]"
      ]
     },
     "metadata": {},
     "output_type": "display_data"
    },
    {
     "data": {
      "application/vnd.jupyter.widget-view+json": {
       "model_id": "0da1bee841874aac9e453259e5ed65f3",
       "version_major": 2,
       "version_minor": 0
      },
      "text/plain": [
       "Generate report structure:   0%|          | 0/1 [00:00<?, ?it/s]"
      ]
     },
     "metadata": {},
     "output_type": "display_data"
    },
    {
     "data": {
      "application/vnd.jupyter.widget-view+json": {
       "model_id": "dbb7a59e945745c290c5940022d1d703",
       "version_major": 2,
       "version_minor": 0
      },
      "text/plain": [
       "Render HTML:   0%|          | 0/1 [00:00<?, ?it/s]"
      ]
     },
     "metadata": {},
     "output_type": "display_data"
    },
    {
     "data": {
      "application/vnd.jupyter.widget-view+json": {
       "model_id": "c074eeb5ae29408ab7f7e6154e16c2eb",
       "version_major": 2,
       "version_minor": 0
      },
      "text/plain": [
       "Export report to file:   0%|          | 0/1 [00:00<?, ?it/s]"
      ]
     },
     "metadata": {},
     "output_type": "display_data"
    }
   ],
   "source": [
    "profile = ProfileReport(df4)\n",
    "profile.to_file('output.html')"
   ]
  },
  {
   "cell_type": "markdown",
   "id": "270a14f9",
   "metadata": {},
   "source": [
    "### 4.1.1. Gross Revenue"
   ]
  },
  {
   "cell_type": "code",
   "execution_count": 302,
   "id": "37cff4fd",
   "metadata": {},
   "outputs": [
    {
     "data": {
      "text/html": [
       "<div>\n",
       "<style scoped>\n",
       "    .dataframe tbody tr th:only-of-type {\n",
       "        vertical-align: middle;\n",
       "    }\n",
       "\n",
       "    .dataframe tbody tr th {\n",
       "        vertical-align: top;\n",
       "    }\n",
       "\n",
       "    .dataframe thead th {\n",
       "        text-align: right;\n",
       "    }\n",
       "</style>\n",
       "<table border=\"1\" class=\"dataframe\">\n",
       "  <thead>\n",
       "    <tr style=\"text-align: right;\">\n",
       "      <th></th>\n",
       "      <th>customer_id</th>\n",
       "      <th>gross_revenue</th>\n",
       "      <th>recency_days</th>\n",
       "      <th>qtde_invoices</th>\n",
       "      <th>qtde_items</th>\n",
       "      <th>qtde_products</th>\n",
       "      <th>avg_ticket</th>\n",
       "      <th>avg_recency_days</th>\n",
       "      <th>frequency</th>\n",
       "      <th>qtde_returns</th>\n",
       "      <th>avg_basket_size</th>\n",
       "      <th>avg_unique_basket_size</th>\n",
       "    </tr>\n",
       "  </thead>\n",
       "  <tbody>\n",
       "    <tr>\n",
       "      <th>1017</th>\n",
       "      <td>14646</td>\n",
       "      <td>279138.02</td>\n",
       "      <td>1.0</td>\n",
       "      <td>72.0</td>\n",
       "      <td>196844.0</td>\n",
       "      <td>2060.0</td>\n",
       "      <td>135.503893</td>\n",
       "      <td>7.844444</td>\n",
       "      <td>0.206215</td>\n",
       "      <td>288.0</td>\n",
       "      <td>2733.944444</td>\n",
       "      <td>9.708333</td>\n",
       "    </tr>\n",
       "    <tr>\n",
       "      <th>492</th>\n",
       "      <td>18102</td>\n",
       "      <td>259657.30</td>\n",
       "      <td>0.0</td>\n",
       "      <td>60.0</td>\n",
       "      <td>64124.0</td>\n",
       "      <td>431.0</td>\n",
       "      <td>602.453132</td>\n",
       "      <td>14.680000</td>\n",
       "      <td>0.163043</td>\n",
       "      <td>0.0</td>\n",
       "      <td>1068.733333</td>\n",
       "      <td>2.500000</td>\n",
       "    </tr>\n",
       "    <tr>\n",
       "      <th>433</th>\n",
       "      <td>17450</td>\n",
       "      <td>194550.79</td>\n",
       "      <td>8.0</td>\n",
       "      <td>46.0</td>\n",
       "      <td>69993.0</td>\n",
       "      <td>337.0</td>\n",
       "      <td>577.302047</td>\n",
       "      <td>12.821429</td>\n",
       "      <td>0.136111</td>\n",
       "      <td>952.0</td>\n",
       "      <td>1521.586957</td>\n",
       "      <td>2.695652</td>\n",
       "    </tr>\n",
       "    <tr>\n",
       "      <th>3339</th>\n",
       "      <td>16446</td>\n",
       "      <td>168472.50</td>\n",
       "      <td>0.0</td>\n",
       "      <td>2.0</td>\n",
       "      <td>80997.0</td>\n",
       "      <td>3.0</td>\n",
       "      <td>56157.500000</td>\n",
       "      <td>205.000000</td>\n",
       "      <td>0.014563</td>\n",
       "      <td>80995.0</td>\n",
       "      <td>40498.500000</td>\n",
       "      <td>1.500000</td>\n",
       "    </tr>\n",
       "    <tr>\n",
       "      <th>66</th>\n",
       "      <td>14911</td>\n",
       "      <td>140450.72</td>\n",
       "      <td>1.0</td>\n",
       "      <td>199.0</td>\n",
       "      <td>80263.0</td>\n",
       "      <td>5673.0</td>\n",
       "      <td>24.757751</td>\n",
       "      <td>2.601399</td>\n",
       "      <td>0.651475</td>\n",
       "      <td>3332.0</td>\n",
       "      <td>403.331658</td>\n",
       "      <td>8.974874</td>\n",
       "    </tr>\n",
       "    <tr>\n",
       "      <th>1150</th>\n",
       "      <td>12415</td>\n",
       "      <td>124564.53</td>\n",
       "      <td>24.0</td>\n",
       "      <td>20.0</td>\n",
       "      <td>77373.0</td>\n",
       "      <td>713.0</td>\n",
       "      <td>174.704811</td>\n",
       "      <td>20.866667</td>\n",
       "      <td>0.076433</td>\n",
       "      <td>427.0</td>\n",
       "      <td>3868.650000</td>\n",
       "      <td>22.150000</td>\n",
       "    </tr>\n",
       "    <tr>\n",
       "      <th>190</th>\n",
       "      <td>14156</td>\n",
       "      <td>117379.63</td>\n",
       "      <td>9.0</td>\n",
       "      <td>55.0</td>\n",
       "      <td>57885.0</td>\n",
       "      <td>1400.0</td>\n",
       "      <td>83.842593</td>\n",
       "      <td>7.260000</td>\n",
       "      <td>0.178571</td>\n",
       "      <td>859.0</td>\n",
       "      <td>1052.454545</td>\n",
       "      <td>12.981818</td>\n",
       "    </tr>\n",
       "    <tr>\n",
       "      <th>15</th>\n",
       "      <td>17511</td>\n",
       "      <td>91062.38</td>\n",
       "      <td>2.0</td>\n",
       "      <td>31.0</td>\n",
       "      <td>64549.0</td>\n",
       "      <td>963.0</td>\n",
       "      <td>94.561142</td>\n",
       "      <td>11.593750</td>\n",
       "      <td>0.120968</td>\n",
       "      <td>1535.0</td>\n",
       "      <td>2082.225806</td>\n",
       "      <td>14.612903</td>\n",
       "    </tr>\n",
       "    <tr>\n",
       "      <th>12</th>\n",
       "      <td>16029</td>\n",
       "      <td>72882.09</td>\n",
       "      <td>38.0</td>\n",
       "      <td>62.0</td>\n",
       "      <td>40207.0</td>\n",
       "      <td>241.0</td>\n",
       "      <td>302.415311</td>\n",
       "      <td>9.054054</td>\n",
       "      <td>0.196429</td>\n",
       "      <td>8004.0</td>\n",
       "      <td>648.500000</td>\n",
       "      <td>0.693548</td>\n",
       "    </tr>\n",
       "    <tr>\n",
       "      <th>955</th>\n",
       "      <td>16684</td>\n",
       "      <td>66653.56</td>\n",
       "      <td>4.0</td>\n",
       "      <td>28.0</td>\n",
       "      <td>50255.0</td>\n",
       "      <td>277.0</td>\n",
       "      <td>240.626570</td>\n",
       "      <td>22.125000</td>\n",
       "      <td>0.084507</td>\n",
       "      <td>864.0</td>\n",
       "      <td>1794.821429</td>\n",
       "      <td>4.250000</td>\n",
       "    </tr>\n",
       "  </tbody>\n",
       "</table>\n",
       "</div>"
      ],
      "text/plain": [
       "      customer_id  gross_revenue  recency_days  qtde_invoices  qtde_items  qtde_products    avg_ticket  avg_recency_days  frequency  qtde_returns  avg_basket_size  avg_unique_basket_size\n",
       "1017        14646      279138.02           1.0           72.0    196844.0         2060.0    135.503893          7.844444   0.206215         288.0      2733.944444                9.708333\n",
       "492         18102      259657.30           0.0           60.0     64124.0          431.0    602.453132         14.680000   0.163043           0.0      1068.733333                2.500000\n",
       "433         17450      194550.79           8.0           46.0     69993.0          337.0    577.302047         12.821429   0.136111         952.0      1521.586957                2.695652\n",
       "3339        16446      168472.50           0.0            2.0     80997.0            3.0  56157.500000        205.000000   0.014563       80995.0     40498.500000                1.500000\n",
       "66          14911      140450.72           1.0          199.0     80263.0         5673.0     24.757751          2.601399   0.651475        3332.0       403.331658                8.974874\n",
       "1150        12415      124564.53          24.0           20.0     77373.0          713.0    174.704811         20.866667   0.076433         427.0      3868.650000               22.150000\n",
       "190         14156      117379.63           9.0           55.0     57885.0         1400.0     83.842593          7.260000   0.178571         859.0      1052.454545               12.981818\n",
       "15          17511       91062.38           2.0           31.0     64549.0          963.0     94.561142         11.593750   0.120968        1535.0      2082.225806               14.612903\n",
       "12          16029       72882.09          38.0           62.0     40207.0          241.0    302.415311          9.054054   0.196429        8004.0       648.500000                0.693548\n",
       "955         16684       66653.56           4.0           28.0     50255.0          277.0    240.626570         22.125000   0.084507         864.0      1794.821429                4.250000"
      ]
     },
     "execution_count": 302,
     "metadata": {},
     "output_type": "execute_result"
    }
   ],
   "source": [
    "df4.sort_values('gross_revenue', ascending=False).head(10)"
   ]
  },
  {
   "cell_type": "code",
   "execution_count": 304,
   "id": "bdc8c321",
   "metadata": {},
   "outputs": [
    {
     "data": {
      "text/html": [
       "<div>\n",
       "<style scoped>\n",
       "    .dataframe tbody tr th:only-of-type {\n",
       "        vertical-align: middle;\n",
       "    }\n",
       "\n",
       "    .dataframe tbody tr th {\n",
       "        vertical-align: top;\n",
       "    }\n",
       "\n",
       "    .dataframe thead th {\n",
       "        text-align: right;\n",
       "    }\n",
       "</style>\n",
       "<table border=\"1\" class=\"dataframe\">\n",
       "  <thead>\n",
       "    <tr style=\"text-align: right;\">\n",
       "      <th></th>\n",
       "      <th>invoice_no</th>\n",
       "      <th>stock_code</th>\n",
       "      <th>quantity</th>\n",
       "      <th>invoice_date</th>\n",
       "      <th>unit_price</th>\n",
       "      <th>country</th>\n",
       "      <th>customer_id</th>\n",
       "    </tr>\n",
       "  </thead>\n",
       "  <tbody>\n",
       "    <tr>\n",
       "      <th>37952</th>\n",
       "      <td>539491</td>\n",
       "      <td>21981</td>\n",
       "      <td>12</td>\n",
       "      <td>2016-12-18</td>\n",
       "      <td>0.29</td>\n",
       "      <td>Netherlands</td>\n",
       "      <td>14646</td>\n",
       "    </tr>\n",
       "    <tr>\n",
       "      <th>37953</th>\n",
       "      <td>539491</td>\n",
       "      <td>21986</td>\n",
       "      <td>12</td>\n",
       "      <td>2016-12-18</td>\n",
       "      <td>0.29</td>\n",
       "      <td>Netherlands</td>\n",
       "      <td>14646</td>\n",
       "    </tr>\n",
       "    <tr>\n",
       "      <th>37954</th>\n",
       "      <td>539491</td>\n",
       "      <td>22720</td>\n",
       "      <td>2</td>\n",
       "      <td>2016-12-18</td>\n",
       "      <td>4.95</td>\n",
       "      <td>Netherlands</td>\n",
       "      <td>14646</td>\n",
       "    </tr>\n",
       "    <tr>\n",
       "      <th>37955</th>\n",
       "      <td>539491</td>\n",
       "      <td>21931</td>\n",
       "      <td>1</td>\n",
       "      <td>2016-12-18</td>\n",
       "      <td>1.95</td>\n",
       "      <td>Netherlands</td>\n",
       "      <td>14646</td>\n",
       "    </tr>\n",
       "    <tr>\n",
       "      <th>37956</th>\n",
       "      <td>539491</td>\n",
       "      <td>22613</td>\n",
       "      <td>2</td>\n",
       "      <td>2016-12-18</td>\n",
       "      <td>0.85</td>\n",
       "      <td>Netherlands</td>\n",
       "      <td>14646</td>\n",
       "    </tr>\n",
       "  </tbody>\n",
       "</table>\n",
       "</div>"
      ],
      "text/plain": [
       "      invoice_no stock_code  quantity invoice_date  unit_price      country  customer_id\n",
       "37952     539491      21981        12   2016-12-18        0.29  Netherlands        14646\n",
       "37953     539491      21986        12   2016-12-18        0.29  Netherlands        14646\n",
       "37954     539491      22720         2   2016-12-18        4.95  Netherlands        14646\n",
       "37955     539491      21931         1   2016-12-18        1.95  Netherlands        14646\n",
       "37956     539491      22613         2   2016-12-18        0.85  Netherlands        14646"
      ]
     },
     "execution_count": 304,
     "metadata": {},
     "output_type": "execute_result"
    }
   ],
   "source": [
    "df3[df3['customer_id'] == 14646].head()"
   ]
  },
  {
   "cell_type": "code",
   "execution_count": 308,
   "id": "440eeac4",
   "metadata": {},
   "outputs": [
    {
     "data": {
      "text/plain": [
       "278778.02"
      ]
     },
     "execution_count": 308,
     "metadata": {},
     "output_type": "execute_result"
    }
   ],
   "source": [
    "np.sum(df3.loc[df3['customer_id'] == 14646, 'quantity'] * df3.loc[df3['customer_id'] == 14646, 'unit_price'])"
   ]
  },
  {
   "cell_type": "code",
   "execution_count": 312,
   "id": "31a94eed",
   "metadata": {},
   "outputs": [
    {
     "data": {
      "text/plain": [
       "196556"
      ]
     },
     "execution_count": 312,
     "metadata": {},
     "output_type": "execute_result"
    }
   ],
   "source": [
    "df3.loc[df3['customer_id'] == 14646, 'quantity'].sum()"
   ]
  },
  {
   "cell_type": "code",
   "execution_count": null,
   "id": "aabad3fb",
   "metadata": {},
   "outputs": [],
   "source": []
  },
  {
   "cell_type": "code",
   "execution_count": null,
   "id": "ec1e426f",
   "metadata": {},
   "outputs": [],
   "source": []
  },
  {
   "cell_type": "code",
   "execution_count": null,
   "id": "f0208388",
   "metadata": {},
   "outputs": [],
   "source": []
  },
  {
   "cell_type": "markdown",
   "id": "d67437bb",
   "metadata": {},
   "source": [
    "## 4.2. Bivariate Analysis"
   ]
  },
  {
   "cell_type": "code",
   "execution_count": null,
   "id": "6bd72ace",
   "metadata": {},
   "outputs": [],
   "source": []
  },
  {
   "cell_type": "code",
   "execution_count": null,
   "id": "f71a6ad4",
   "metadata": {},
   "outputs": [],
   "source": []
  },
  {
   "cell_type": "code",
   "execution_count": null,
   "id": "41be6f91",
   "metadata": {},
   "outputs": [],
   "source": []
  },
  {
   "cell_type": "code",
   "execution_count": null,
   "id": "3e277741",
   "metadata": {},
   "outputs": [],
   "source": []
  },
  {
   "cell_type": "markdown",
   "id": "498a52a6",
   "metadata": {},
   "source": [
    "# 5.0. Data Preparation"
   ]
  },
  {
   "cell_type": "code",
   "execution_count": 273,
   "id": "b820cb82",
   "metadata": {},
   "outputs": [],
   "source": [
    "df5 = df4.copy()"
   ]
  },
  {
   "cell_type": "code",
   "execution_count": 274,
   "id": "db459d48-2392-4142-bc7f-722b0f5379a3",
   "metadata": {},
   "outputs": [
    {
     "data": {
      "text/html": [
       "<div>\n",
       "<style scoped>\n",
       "    .dataframe tbody tr th:only-of-type {\n",
       "        vertical-align: middle;\n",
       "    }\n",
       "\n",
       "    .dataframe tbody tr th {\n",
       "        vertical-align: top;\n",
       "    }\n",
       "\n",
       "    .dataframe thead th {\n",
       "        text-align: right;\n",
       "    }\n",
       "</style>\n",
       "<table border=\"1\" class=\"dataframe\">\n",
       "  <thead>\n",
       "    <tr style=\"text-align: right;\">\n",
       "      <th></th>\n",
       "      <th>customer_id</th>\n",
       "      <th>gross_revenue</th>\n",
       "      <th>recency_days</th>\n",
       "      <th>qtde_invoices</th>\n",
       "      <th>qtde_items</th>\n",
       "      <th>qtde_products</th>\n",
       "      <th>avg_ticket</th>\n",
       "      <th>avg_recency_days</th>\n",
       "      <th>frequency</th>\n",
       "      <th>qtde_returns</th>\n",
       "      <th>avg_basket_size</th>\n",
       "      <th>avg_unique_basket_size</th>\n",
       "    </tr>\n",
       "  </thead>\n",
       "  <tbody>\n",
       "    <tr>\n",
       "      <th>0</th>\n",
       "      <td>17850</td>\n",
       "      <td>5391.21</td>\n",
       "      <td>372.0</td>\n",
       "      <td>34.0</td>\n",
       "      <td>1733.0</td>\n",
       "      <td>297.0</td>\n",
       "      <td>18.152222</td>\n",
       "      <td>35 days 12:00:00</td>\n",
       "      <td>0.486111</td>\n",
       "      <td>40.0</td>\n",
       "      <td>50.970588</td>\n",
       "      <td>0.617647</td>\n",
       "    </tr>\n",
       "    <tr>\n",
       "      <th>1</th>\n",
       "      <td>13047</td>\n",
       "      <td>3232.59</td>\n",
       "      <td>56.0</td>\n",
       "      <td>9.0</td>\n",
       "      <td>1390.0</td>\n",
       "      <td>171.0</td>\n",
       "      <td>18.904035</td>\n",
       "      <td>27 days 06:00:00</td>\n",
       "      <td>0.048780</td>\n",
       "      <td>35.0</td>\n",
       "      <td>154.444444</td>\n",
       "      <td>11.666667</td>\n",
       "    </tr>\n",
       "    <tr>\n",
       "      <th>2</th>\n",
       "      <td>12583</td>\n",
       "      <td>6705.38</td>\n",
       "      <td>2.0</td>\n",
       "      <td>15.0</td>\n",
       "      <td>5028.0</td>\n",
       "      <td>232.0</td>\n",
       "      <td>28.902500</td>\n",
       "      <td>23 days 04:30:00</td>\n",
       "      <td>0.045699</td>\n",
       "      <td>50.0</td>\n",
       "      <td>335.200000</td>\n",
       "      <td>7.600000</td>\n",
       "    </tr>\n",
       "    <tr>\n",
       "      <th>3</th>\n",
       "      <td>13748</td>\n",
       "      <td>948.25</td>\n",
       "      <td>95.0</td>\n",
       "      <td>5.0</td>\n",
       "      <td>439.0</td>\n",
       "      <td>28.0</td>\n",
       "      <td>33.866071</td>\n",
       "      <td>92 days 16:00:00</td>\n",
       "      <td>0.017921</td>\n",
       "      <td>0.0</td>\n",
       "      <td>87.800000</td>\n",
       "      <td>4.800000</td>\n",
       "    </tr>\n",
       "    <tr>\n",
       "      <th>4</th>\n",
       "      <td>15100</td>\n",
       "      <td>876.00</td>\n",
       "      <td>333.0</td>\n",
       "      <td>3.0</td>\n",
       "      <td>80.0</td>\n",
       "      <td>3.0</td>\n",
       "      <td>292.000000</td>\n",
       "      <td>8 days 14:24:00</td>\n",
       "      <td>0.136364</td>\n",
       "      <td>22.0</td>\n",
       "      <td>26.666667</td>\n",
       "      <td>0.333333</td>\n",
       "    </tr>\n",
       "  </tbody>\n",
       "</table>\n",
       "</div>"
      ],
      "text/plain": [
       "   customer_id  gross_revenue  recency_days  qtde_invoices  qtde_items  qtde_products  avg_ticket avg_recency_days  frequency  qtde_returns  avg_basket_size  avg_unique_basket_size\n",
       "0        17850        5391.21         372.0           34.0      1733.0          297.0   18.152222 35 days 12:00:00   0.486111          40.0        50.970588                0.617647\n",
       "1        13047        3232.59          56.0            9.0      1390.0          171.0   18.904035 27 days 06:00:00   0.048780          35.0       154.444444               11.666667\n",
       "2        12583        6705.38           2.0           15.0      5028.0          232.0   28.902500 23 days 04:30:00   0.045699          50.0       335.200000                7.600000\n",
       "3        13748         948.25          95.0            5.0       439.0           28.0   33.866071 92 days 16:00:00   0.017921           0.0        87.800000                4.800000\n",
       "4        15100         876.00         333.0            3.0        80.0            3.0  292.000000  8 days 14:24:00   0.136364          22.0        26.666667                0.333333"
      ]
     },
     "execution_count": 274,
     "metadata": {},
     "output_type": "execute_result"
    }
   ],
   "source": [
    "df5.head()"
   ]
  },
  {
   "cell_type": "code",
   "execution_count": 275,
   "id": "09036e7b-79d8-4503-9607-a3e3bf17a4e9",
   "metadata": {},
   "outputs": [],
   "source": [
    "## Standard Scalaer\n",
    "ss = pp.MinMaxScaler()\n",
    "\n",
    "df5['gross_revenue'] = ss.fit_transform( df5[['gross_revenue']] )\n",
    "df5['recency_days'] = ss.fit_transform( df5[['recency_days']] )\n",
    "df5['qtde_invoices'] = ss.fit_transform( df5[['qtde_invoices']] )\n",
    "df5['qtde_items'] = ss.fit_transform( df5[['qtde_items']] )\n",
    "df5['qtde_products'] = ss.fit_transform( df5[['qtde_products']] )\n",
    "df5['avg_ticket'] = ss.fit_transform( df5[['avg_ticket']] )\n",
    "df5['avg_recency_days'] = ss.fit_transform( df5[['avg_recency_days']] )\n",
    "df5['frequency'] = ss.fit_transform( df5[['frequency']] )\n",
    "df5['qtde_returns'] = ss.fit_transform( df5[['qtde_returns']] )\n",
    "df5['avg_basket_size'] = ss.fit_transform( df5[['avg_basket_size']] )\n",
    "df5['avg_unique_basket_size'] = ss.fit_transform( df5[['avg_unique_basket_size']] )"
   ]
  },
  {
   "cell_type": "markdown",
   "id": "9507e22a",
   "metadata": {},
   "source": [
    "# 6.0. Feature Selection"
   ]
  },
  {
   "cell_type": "code",
   "execution_count": 276,
   "id": "a3480fcb",
   "metadata": {},
   "outputs": [],
   "source": [
    "df6 = df5.copy()"
   ]
  },
  {
   "cell_type": "markdown",
   "id": "521adc25",
   "metadata": {
    "tags": []
   },
   "source": [
    "# 7.0. Hyperparameter Fine-Tunning"
   ]
  },
  {
   "cell_type": "code",
   "execution_count": 277,
   "id": "0ae10eef",
   "metadata": {},
   "outputs": [],
   "source": [
    "X = df6.drop(columns = ['customer_id', 'avg_recency_days'])"
   ]
  },
  {
   "cell_type": "code",
   "execution_count": null,
   "id": "36368b51",
   "metadata": {},
   "outputs": [],
   "source": []
  },
  {
   "cell_type": "code",
   "execution_count": 278,
   "id": "7f4b2384",
   "metadata": {},
   "outputs": [],
   "source": [
    "clusters = [2, 3, 4, 5, 6, 7]"
   ]
  },
  {
   "cell_type": "code",
   "execution_count": 279,
   "id": "6df8f510",
   "metadata": {
    "scrolled": true,
    "tags": []
   },
   "outputs": [
    {
     "data": {
      "image/png": "[encoded data removed]",
      "text/plain": [
       "<Figure size 1728x648 with 1 Axes>"
      ]
     },
     "metadata": {},
     "output_type": "display_data"
    },
    {
     "data": {
      "text/plain": [
       "<AxesSubplot:title={'center':'Distortion Score Elbow for KMeans Clustering'}, xlabel='k', ylabel='distortion score'>"
      ]
     },
     "execution_count": 279,
     "metadata": {},
     "output_type": "execute_result"
    }
   ],
   "source": [
    "kmeans = KElbowVisualizer(c.KMeans(), k=clusters, timings=False)\n",
    "kmeans.fit(X)\n",
    "kmeans.show()"
   ]
  },
  {
   "cell_type": "code",
   "execution_count": null,
   "id": "0ac0cf44",
   "metadata": {},
   "outputs": [],
   "source": [
    "kmeans = KElbowVisualizer(c.KMeans(), k=clusters, timings=False, metric = 'silhouette')\n",
    "kmeans.fit(X)\n",
    "kmeans.show()"
   ]
  },
  {
   "cell_type": "markdown",
   "id": "8b20f2cf",
   "metadata": {
    "tags": []
   },
   "source": [
    "## 7.1 Silhouette Analysis"
   ]
  },
  {
   "cell_type": "code",
   "execution_count": null,
   "id": "0dc661b4",
   "metadata": {
    "tags": []
   },
   "outputs": [],
   "source": [
    "fig, ax = plt.subplots(3, 2, figsize=(25,18))\n",
    "\n",
    "for k in clusters:\n",
    "    km = c.KMeans(n_clusters=k, init='random', n_init=10, max_iter=100, random_state=42)\n",
    "    q, mod = divmod(k,2)\n",
    "    \n",
    "    visualizer = SilhouetteVisualizer(km, colors='yellowbrick', ax=ax[q-1][mod])\n",
    "    visualizer.fit(X)\n",
    "    visualizer.finalize()"
   ]
  },
  {
   "cell_type": "markdown",
   "id": "9d3afb34",
   "metadata": {},
   "source": [
    "# 8.0. Model Training"
   ]
  },
  {
   "cell_type": "markdown",
   "id": "a2fa7579",
   "metadata": {},
   "source": [
    "## 8.1. K-Means"
   ]
  },
  {
   "cell_type": "code",
   "execution_count": null,
   "id": "20152259",
   "metadata": {},
   "outputs": [],
   "source": [
    "# model definition\n",
    "k = 3\n",
    "kmeans = c.KMeans(init='random', n_clusters=k, n_init=10, max_iter=300, random_state=42)\n",
    "\n",
    "# model training\n",
    "kmeans.fit(X)\n",
    "\n",
    "# clustering\n",
    "labels = kmeans.labels_"
   ]
  },
  {
   "cell_type": "markdown",
   "id": "be368a15",
   "metadata": {},
   "source": [
    "### 8.1.2. Cluster Validation"
   ]
  },
  {
   "cell_type": "code",
   "execution_count": null,
   "id": "3697f179",
   "metadata": {},
   "outputs": [],
   "source": [
    "from sklearn import metrics as m"
   ]
  },
  {
   "cell_type": "code",
   "execution_count": null,
   "id": "bb1b7019",
   "metadata": {},
   "outputs": [],
   "source": [
    "## WSS (Within-cluster sum of square)\n",
    "print('WSS Value: {}'.format(kmeans.inertia_))\n",
    "\n",
    "## SS (Silhouette Score)\n",
    "print('SS Value: {}'.format(m.silhouette_score(X, labels, metric='euclidean')))"
   ]
  },
  {
   "cell_type": "markdown",
   "id": "0d032925",
   "metadata": {},
   "source": [
    "# 9.0. Cluster Analysis"
   ]
  },
  {
   "cell_type": "code",
   "execution_count": null,
   "id": "c60620f9",
   "metadata": {},
   "outputs": [],
   "source": [
    "df9 = df6.copy()\n",
    "df9['cluster'] = labels\n",
    "df9.head()"
   ]
  },
  {
   "cell_type": "markdown",
   "id": "352f98be",
   "metadata": {},
   "source": [
    "## 9.1. Visualization Inspection"
   ]
  },
  {
   "cell_type": "code",
   "execution_count": null,
   "id": "685677c1",
   "metadata": {},
   "outputs": [],
   "source": [
    "visualizer = SilhouetteVisualizer(kmeans, colors='yellowbrick')\n",
    "visualizer.fit(X)\n",
    "visualizer.finalize()"
   ]
  },
  {
   "cell_type": "markdown",
   "id": "1c11e06f",
   "metadata": {},
   "source": [
    "## 9.2. 2d plot"
   ]
  },
  {
   "cell_type": "code",
   "execution_count": null,
   "id": "f29211b1",
   "metadata": {},
   "outputs": [],
   "source": [
    "df_viz = df9.drop(columns='customer_id', axis=1)\n",
    "sns.pairplot(df_viz, hue='cluster')"
   ]
  },
  {
   "cell_type": "markdown",
   "id": "94c6c5a8",
   "metadata": {},
   "source": [
    "## 9.3. UMAP"
   ]
  },
  {
   "cell_type": "code",
   "execution_count": null,
   "id": "f3a8adf7",
   "metadata": {},
   "outputs": [],
   "source": [
    "reducer = umap.UMAP(n_neighbors = 90, random_state=42)\n",
    "embedding = reducer.fit_transform(X)"
   ]
  },
  {
   "cell_type": "code",
   "execution_count": null,
   "id": "f0aa4c19",
   "metadata": {},
   "outputs": [],
   "source": [
    "# embedding\n",
    "df_viz['embedding_x'] = embedding[:, 0]\n",
    "df_viz['embedding_y'] = embedding[:, 1]\n",
    "\n",
    "# plot UMAP\n",
    "sns.scatterplot(x='embedding_x', y='embedding_y',\n",
    "                hue = 'cluster',\n",
    "                palette = sns.color_palette('hls', n_colors=len(df_viz['cluster'].unique())),\n",
    "                data = df_viz)"
   ]
  },
  {
   "cell_type": "markdown",
   "id": "7ea27c81",
   "metadata": {},
   "source": [
    "## 9.4. Cluster Profile"
   ]
  },
  {
   "cell_type": "code",
   "execution_count": null,
   "id": "2ea062d6",
   "metadata": {},
   "outputs": [],
   "source": [
    "# Number of customer\n",
    "df_cluster = df9[['customer_id', 'cluster']].groupby('cluster').count().reset_index()\n",
    "df_cluster['perc_customer'] = 100*(df_cluster['customer_id'] / df_cluster['customer_id'].sum())\n",
    "\n",
    "# Avg gross revenue\n",
    "df_avg_gross_revenue = df9[['gross_revenue', 'cluster']].groupby('cluster').mean().reset_index()\n",
    "df_cluster = pd.merge(df_cluster, df_avg_gross_revenue, how='inner', on='cluster')\n",
    "\n",
    "# Avg recency days\n",
    "df_avg_recency_days = df9[['recency_days', 'cluster']].groupby('cluster').mean().reset_index()\n",
    "df_cluster = pd.merge(df_cluster, df_avg_recency_days, how='inner', on='cluster')\n",
    "\n",
    "# Avg invoice_no\n",
    "df_avg_invoice_no = df9[['invoice_no', 'cluster']].groupby('cluster').mean().reset_index()\n",
    "df_cluster = pd.merge(df_cluster, df_avg_invoice_no, how='inner', on='cluster')\n",
    "\n",
    "# Avg Ticket\n",
    "df_ticket = df9[['avg_ticket', 'cluster']].groupby('cluster').mean().reset_index()\n",
    "df_cluster = pd.merge(df_cluster, df_ticket, how='inner', on='cluster')\n",
    "\n",
    "df_cluster"
   ]
  },
  {
   "cell_type": "markdown",
   "id": "75faf1f4",
   "metadata": {},
   "source": [
    "# 10.0. Deploy To Production"
   ]
  },
  {
   "cell_type": "code",
   "execution_count": null,
   "id": "f28c3174",
   "metadata": {},
   "outputs": [],
   "source": []
  },
  {
   "cell_type": "code",
   "execution_count": null,
   "id": "585e36cb",
   "metadata": {},
   "outputs": [],
   "source": []
  },
  {
   "cell_type": "code",
   "execution_count": null,
   "id": "24b7d9e4",
   "metadata": {},
   "outputs": [],
   "source": []
  }
 ],
 "metadata": {
  "kernelspec": {
   "display_name": "Python 3 (ipykernel)",
   "language": "python",
   "name": "python3"
  },
  "language_info": {
   "codemirror_mode": {
    "name": "ipython",
    "version": 3
   },
   "file_extension": ".py",
   "mimetype": "text/x-python",
   "name": "python",
   "nbconvert_exporter": "python",
   "pygments_lexer": "ipython3",
   "version": "3.9.8"
  },
  "toc-showmarkdowntxt": false
 },
 "nbformat": 4,
 "nbformat_minor": 5
}
